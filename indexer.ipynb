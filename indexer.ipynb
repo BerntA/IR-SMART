{
 "cells": [
  {
   "cell_type": "code",
   "execution_count": 111,
   "metadata": {},
   "outputs": [],
   "source": [
    "import math\n",
    "import random\n",
    "import numpy as np\n",
    "from collections import Counter\n",
    "from nltk.tokenize import sent_tokenize, word_tokenize\n",
    "from nltk.corpus import stopwords"
   ]
  },
  {
   "cell_type": "code",
   "execution_count": 112,
   "metadata": {},
   "outputs": [
    {
     "output_type": "stream",
     "name": "stdout",
     "text": [
      "{\"that'll\", \"didn't\", 'above', \"it's\", 'this', 'these', 'be', 'up', 'nor', 'while', 'had', 'during', 'am', \"haven't\", 'been', 'them', 'now', 'doesn', 'myself', 'we', 't', 'mightn', 'yourself', 'did', 'is', 'there', 'than', 'which', 'an', 'down', \"won't\", 'hasn', 'because', 'd', 'its', 'him', 'isn', 'aren', 'yours', 'mustn', 'other', 'and', 'how', \"mightn't\", 'm', 'he', 'any', 'our', 'being', 'were', \"needn't\", 'with', \"hadn't\", 'needn', 'who', 'below', 'after', 'a', 'my', 'at', 'ours', 'whom', 'that', 'about', 'on', 'so', 'i', 'each', 'yourselves', 'as', 'what', 'no', 'not', 'll', 'for', \"isn't\", \"shouldn't\", 'very', 'from', 'here', 'once', 'same', \"wouldn't\", \"mustn't\", 'your', 'out', 'doing', 'they', 'before', 'himself', 'between', 'again', \"couldn't\", 'the', 'themselves', 'have', 'shan', 'more', \"wasn't\", 'why', 'shouldn', 'ourselves', 'wouldn', 'will', 'she', 'those', 'where', \"doesn't\", 'haven', 'was', 're', 'too', 'ma', 'of', 'y', \"aren't\", 'you', 'few', 'me', \"you're\", 'has', 'then', 'against', \"you've\", 'don', 'should', 'through', 'further', \"weren't\", 'can', 'didn', 'hers', 'hadn', 'both', 'does', 'their', 'her', 'do', 'it', 'weren', 'o', 'under', 'his', 's', 'having', 'but', \"you'd\", 'to', 'in', 'over', 'ain', 'until', 'such', 'off', 'just', 'some', \"should've\", 've', 'only', 'by', \"don't\", \"hasn't\", 'won', 'if', 'herself', 'own', \"shan't\", 'most', 'or', \"you'll\", 'itself', 'wasn', 'all', 'when', 'are', 'into', \"she's\", 'couldn', 'theirs'}\n"
     ]
    }
   ],
   "source": [
    "stop_words = set(stopwords.words('english'))\n",
    "print(stop_words) # Needed?"
   ]
  },
  {
   "cell_type": "code",
   "execution_count": 113,
   "metadata": {},
   "outputs": [],
   "source": [
    "def peek(filename, size, enc='utf-8'):\n",
    "    \"\"\"\n",
    "    Print out the first X lines in the file.\n",
    "    \"\"\"\n",
    "    if size <= 0:\n",
    "        print(\"Size must be greater than zero!\")\n",
    "        return\n",
    "\n",
    "    with open(filename, encoding=enc) as f:\n",
    "        for i,line in enumerate(f):\n",
    "            if (size >= 0) and (i >= size):\n",
    "                break\n",
    "            if i == 0: # Skip top line.\n",
    "                continue\n",
    "            print(line.strip())"
   ]
  },
  {
   "cell_type": "code",
   "execution_count": 118,
   "metadata": {},
   "outputs": [],
   "source": [
    "def readDataFromFile(data, filename, size=-1, enc='utf-8'):\n",
    "    \"\"\"\n",
    "    Read and preprocess a certain amount of lines from a file.\n",
    "    \"\"\"\n",
    "    if size == 0:\n",
    "        print(\"Nothing to read! Set size=-1 to read the whole file. AT YOUR OWN RISK.\")\n",
    "        return\n",
    "\n",
    "    with open(filename, encoding=enc) as f:\n",
    "        for i,line in enumerate(f):\n",
    "            if (size >= 0) and (i >= size):\n",
    "                break\n",
    "            if i == 0: # Skip top line.\n",
    "                continue\n",
    "            \n",
    "            line = line.strip().replace('\"', '').replace('\\'', '').split(' ')\n",
    "            a = line[0].replace('<', '').replace('>', '').split('/')[-1].replace('_', ' ')\n",
    "            b = line[1].replace('<', '').replace('>', '').split('/')[-1].replace('_', ' ')\n",
    "            c = \"\"\n",
    "            if line[2].startswith('<'):\n",
    "                c = line[2].replace('<', '').replace('>', '').split('/')[-1][len('Category:'):].replace('_', ' ')\n",
    "            else:\n",
    "                c = ' '.join(line[2:]).replace('@en .', '')\n",
    "            \n",
    "            if not a in data:\n",
    "                data[a] = {'abstract': [], 'subject': []} # Default dict. structure for an entity? (' '.join(field) will be done before indexing elasticsearch)\n",
    "\n",
    "            data[a][b].append(c)"
   ]
  },
  {
   "cell_type": "code",
   "execution_count": 115,
   "metadata": {},
   "outputs": [],
   "source": [
    "def loadData(size):\n",
    "    \"\"\"\n",
    "    Parse dictionary data, size = lines to load from each file.\n",
    "    \"\"\"\n",
    "    kv = {}\n",
    "    files = [\n",
    "        'datasets/DBpedia/long_abstracts_en.ttl',\n",
    "        'datasets/DBpedia/article_categories_en.ttl'\n",
    "    ]\n",
    "    for o in files:\n",
    "        readDataFromFile(kv, o, size) # Update this func. if more files are added to the list in case of parsing bugs!\n",
    "    return kv"
   ]
  },
  {
   "cell_type": "code",
   "execution_count": 116,
   "metadata": {},
   "outputs": [
    {
     "output_type": "stream",
     "name": "stdout",
     "text": [
      "<http://dbpedia.org/resource/Anarchism> <http://dbpedia.org/property/voy> \"no\"^^<http://www.w3.org/1999/02/22-rdf-syntax-ns#langString> .\n<http://dbpedia.org/resource/Anarchism> <http://dbpedia.org/property/n> \"no\"^^<http://www.w3.org/1999/02/22-rdf-syntax-ns#langString> .\n<http://dbpedia.org/resource/Anarchism> <http://dbpedia.org/property/v> \"no\"^^<http://www.w3.org/1999/02/22-rdf-syntax-ns#langString> .\n<http://dbpedia.org/resource/Anarchism> <http://dbpedia.org/property/b> \"Subject:Anarchism\"^^<http://www.w3.org/1999/02/22-rdf-syntax-ns#langString> .\n<http://dbpedia.org/resource/Anarchism> <http://dbpedia.org/property/s> \"Portal:Anarchism\"^^<http://www.w3.org/1999/02/22-rdf-syntax-ns#langString> .\n<http://dbpedia.org/resource/Anarchism> <http://dbpedia.org/property/d> \"Q6199\"^^<http://www.w3.org/1999/02/22-rdf-syntax-ns#langString> .\n<http://dbpedia.org/resource/A> <http://dbpedia.org/property/name> \"Latin Capital Letter A\"^^<http://www.w3.org/1999/02/22-rdf-syntax-ns#langString> .\n<http://dbpedia.org/resource/A> <http://dbpedia.org/property/name> \"Latin Small Letter A\"^^<http://www.w3.org/1999/02/22-rdf-syntax-ns#langString> .\n<http://dbpedia.org/resource/A> <http://dbpedia.org/property/map> \"EBCDIC family\"^^<http://www.w3.org/1999/02/22-rdf-syntax-ns#langString> .\n"
     ]
    }
   ],
   "source": [
    "peek('datasets/DBpedia/infobox_properties_en.ttl', 10)"
   ]
  },
  {
   "cell_type": "code",
   "execution_count": 103,
   "metadata": {},
   "outputs": [
    {
     "output_type": "stream",
     "name": "stdout",
     "text": [
      "<http://dbpedia.org/resource/Animalia_(book)> <http://dbpedia.org/ontology/abstract> \"Animalia is an illustrated children's book by Graeme Base. It was originally published in 1986, followed by a tenth anniversary edition in 1996, and a 25th anniversary edition in 2012. Over three million copies have been sold. A special numbered and signed anniversary edition was also published in 1996, with an embossed gold jacket.\"@en .\n<http://dbpedia.org/resource/Actrius> <http://dbpedia.org/ontology/abstract> \"Actresses (Catalan: Actrius) is a 1997 Catalan language Spanish drama film produced and directed by Ventura Pons and based on the award-winning stage play E.R. by Josep Maria Benet i Jornet. The film has no male actors, with all roles played by females. The film was produced in 1996.\"@en .\n<http://dbpedia.org/resource/Alain_Connes> <http://dbpedia.org/ontology/abstract> \"Alain Connes (French: [alɛ̃ kɔn]; born 1 April 1947) is a French mathematician, currently Professor at the Collège de France, IHÉS, The Ohio State University and Vanderbilt University. He was an Invited Professor at the Conservatoire national des arts et métiers (2000).\"@en .\n<http://dbpedia.org/resource/Agricultural_science> <http://dbpedia.org/ontology/abstract> \"Agricultural science is a broad multidisciplinary field of biology that encompasses the parts of exact, natural, economic and social sciences that are used in the practice and understanding of agriculture. (Veterinary science, but not animal science, is often excluded from the definition.)\"@en .\n<http://dbpedia.org/resource/International_Atomic_Time> <http://dbpedia.org/ontology/abstract> \"International Atomic Time (TAI, from the French name Temps Atomique International) is a high-precision atomic coordinate time standard based on the notional passage of proper time on Earth's geoid. It is the basis for Coordinated Universal Time (UTC), which is used for civil timekeeping all over the Earth's surface, and for Terrestrial Time, which is used for astronomical calculations. As of 30 June 2015 when another leap second was added, TAI is exactly 36 seconds ahead of UTC. The 36 seconds results from the initial difference of 10 seconds at the start of 1972, plus 26 leap seconds in UTC since 1972. TAI may be reported using traditional means of specifying days, carried over from non-uniform time standards based on the rotation of the Earth. Specifically, both Julian Dates and the Gregorian calendar are used. TAI in this form was synchronised with Universal Time at the beginning of 1958, and the two have drifted apart ever since, due to the changing motion of the Earth.\"@en .\n<http://dbpedia.org/resource/Astronomer> <http://dbpedia.org/ontology/abstract> \"An astronomer is a scientist in the field of astronomy who concentrates their studies on a specific question or field outside of the scope of Earth. They look at stars, planets, moons, comets and galaxies, as well as many other celestial objects — either in observational astronomy, in analyzing the data or in theoretical astronomy. Examples of topics or fields astronomers work on include: planetary science, solar astronomy, the origin or evolution of stars, or the formation of galaxies. There are also related but distinct subjects like cosmology which studies the Universe as a whole. Astronomers usually fit into two types: Observational astronomers make direct observations of planets, stars and galaxies, and analyse the data. Theoretical astronomers create and investigate models of things that cannot be observed. Because it takes millions to billions of years for a system of stars or a galaxy to complete a life cycle astronomers have to observe snapshots of different systems at unique points in their evolution to determine how they form, evolve and die. They use this data to create models or simulations to theorize how different celestial bodies work. There are further subcategories inside these two main branches of astronomy such as planetary astronomy, galactic astronomy or cosmology.\"@en .\n<http://dbpedia.org/resource/An_American_in_Paris> <http://dbpedia.org/ontology/abstract> \"An American in Paris is a jazz-influenced symphonic poem by the American composer George Gershwin, written in 1928. Inspired by the time Gershwin had spent in Paris, it evokes the sights and energy of the French capital in the 1920s and is one of his best-known compositions. Gershwin composed An American in Paris on commission from the conductor Walter Damrosch. He scored the piece for the standard instruments of the symphony orchestra plus celesta, saxophones, and automobile horns. He brought back some Parisian taxi horns for the New York premiere of the composition, which took place on December 13, 1928, in Carnegie Hall, with Damrosch conducting the New York Philharmonic. Gershwin completed the orchestration on November 18, less than four weeks before the work's premiere. Gershwin collaborated on the original program notes with the critic and composer Deems Taylor, noting that: \\\"My purpose here is to portray the impression of an American visitor in Paris as he strolls about the city and listens to various street noises and absorbs the French atmosphere.\\\" When the tone poem moves into the blues, \\\"our American friend ... has succumbed to a spasm of homesickness.\\\" But, \\\"nostalgia is not a fatal disease.\\\" The American visitor \\\"once again is an alert spectator of Parisian life\\\" and \\\"the street noises and French atmosphere are triumphant.\\\"\"@en .\n<http://dbpedia.org/resource/Allan_Dwan> <http://dbpedia.org/ontology/abstract> \"Allan Dwan (3 April 1885 – 28 December 1981) was a pioneering Canadian-born American motion picture director, producer and screenwriter.\"@en .\n<http://dbpedia.org/resource/List_of_Atlas_Shrugged_characters> <http://dbpedia.org/ontology/abstract> \"This is a list of characters in Ayn Rand's novel Atlas Shrugged.\"@en .\n"
     ]
    }
   ],
   "source": [
    "peek('datasets/DBpedia/long_abstracts_en.ttl', 10)"
   ]
  },
  {
   "cell_type": "code",
   "execution_count": 101,
   "metadata": {},
   "outputs": [
    {
     "output_type": "stream",
     "name": "stdout",
     "text": [
      "<http://dbpedia.org/resource/Computer_accessibility> <http://dbpedia.org/ontology/wikiPageWikiLinkText> \"Computer accessibility\"@en .\n<http://dbpedia.org/resource/History_of_Afghanistan> <http://dbpedia.org/ontology/wikiPageWikiLinkText> \"History of Afghanistan\"@en .\n<http://dbpedia.org/resource/Geography_of_Afghanistan> <http://dbpedia.org/ontology/wikiPageWikiLinkText> \"Geography of Afghanistan\"@en .\n<http://dbpedia.org/resource/Demographics_of_Afghanistan> <http://dbpedia.org/ontology/wikiPageWikiLinkText> \"Demographics of Afghanistan\"@en .\n<http://dbpedia.org/resource/Communications_in_Afghanistan> <http://dbpedia.org/ontology/wikiPageWikiLinkText> \"Communications in Afghanistan\"@en .\n<http://dbpedia.org/resource/Transport_in_Afghanistan> <http://dbpedia.org/ontology/wikiPageWikiLinkText> \"Transport in Afghanistan\"@en .\n<http://dbpedia.org/resource/Afghan_Armed_Forces> <http://dbpedia.org/ontology/wikiPageWikiLinkText> \"Afghan Armed Forces\"@en .\n<http://dbpedia.org/resource/Foreign_relations_of_Afghanistan> <http://dbpedia.org/ontology/wikiPageWikiLinkText> \"Foreign relations of Afghanistan\"@en .\n<http://dbpedia.org/resource/Assistive_technology> <http://dbpedia.org/ontology/wikiPageWikiLinkText> \"Assistive_technology\"@en .\n"
     ]
    }
   ],
   "source": [
    "peek('datasets/DBpedia/anchor_text_en.ttl', 10)"
   ]
  },
  {
   "cell_type": "code",
   "execution_count": 102,
   "metadata": {},
   "outputs": [
    {
     "output_type": "stream",
     "name": "stdout",
     "text": [
      "<http://dbpedia.org/resource/A> <http://purl.org/dc/terms/subject> <http://dbpedia.org/resource/Category:ISO_basic_Latin_letters> .\n<http://dbpedia.org/resource/A> <http://purl.org/dc/terms/subject> <http://dbpedia.org/resource/Category:Vowel_letters> .\n<http://dbpedia.org/resource/Achilles> <http://purl.org/dc/terms/subject> <http://dbpedia.org/resource/Category:Characters_in_the_Iliad> .\n<http://dbpedia.org/resource/Achilles> <http://purl.org/dc/terms/subject> <http://dbpedia.org/resource/Category:Demigods_of_Classical_mythology> .\n<http://dbpedia.org/resource/Achilles> <http://purl.org/dc/terms/subject> <http://dbpedia.org/resource/Category:Kings_of_the_Myrmidons> .\n<http://dbpedia.org/resource/Achilles> <http://purl.org/dc/terms/subject> <http://dbpedia.org/resource/Category:Greek_mythological_hero_cult> .\n<http://dbpedia.org/resource/Achilles> <http://purl.org/dc/terms/subject> <http://dbpedia.org/resource/Category:People_of_the_Trojan_War> .\n<http://dbpedia.org/resource/Achilles> <http://purl.org/dc/terms/subject> <http://dbpedia.org/resource/Category:Thessalians_in_the_Trojan_War> .\n<http://dbpedia.org/resource/Actrius> <http://purl.org/dc/terms/subject> <http://dbpedia.org/resource/Category:1997_films> .\n"
     ]
    }
   ],
   "source": [
    "peek('datasets/DBpedia/article_categories_en.ttl', 10)"
   ]
  },
  {
   "cell_type": "code",
   "execution_count": 106,
   "metadata": {},
   "outputs": [
    {
     "output_type": "stream",
     "name": "stdout",
     "text": [
      "<http://dbpedia.org/resource/Anarchism> <http://www.w3.org/1999/02/22-rdf-syntax-ns#type> <http://www.w3.org/2002/07/owl#Thing> .\n<http://dbpedia.org/resource/Achilles> <http://www.w3.org/1999/02/22-rdf-syntax-ns#type> <http://www.w3.org/2002/07/owl#Thing> .\n<http://dbpedia.org/resource/Autism> <http://www.w3.org/1999/02/22-rdf-syntax-ns#type> <http://dbpedia.org/ontology/Disease> .\n<http://dbpedia.org/resource/Alabama> <http://www.w3.org/1999/02/22-rdf-syntax-ns#type> <http://dbpedia.org/ontology/AdministrativeRegion> .\n<http://dbpedia.org/resource/Abraham_Lincoln> <http://www.w3.org/1999/02/22-rdf-syntax-ns#type> <http://dbpedia.org/ontology/OfficeHolder> .\n<http://dbpedia.org/resource/Abraham_Lincoln__1> <http://www.w3.org/1999/02/22-rdf-syntax-ns#type> <http://dbpedia.org/ontology/TimePeriod> .\n<http://dbpedia.org/resource/Abraham_Lincoln__2> <http://www.w3.org/1999/02/22-rdf-syntax-ns#type> <http://dbpedia.org/ontology/TimePeriod> .\n<http://dbpedia.org/resource/Abraham_Lincoln__3> <http://www.w3.org/1999/02/22-rdf-syntax-ns#type> <http://dbpedia.org/ontology/TimePeriod> .\n<http://dbpedia.org/resource/An_American_in_Paris> <http://www.w3.org/1999/02/22-rdf-syntax-ns#type> <http://www.w3.org/2002/07/owl#Thing> .\n"
     ]
    }
   ],
   "source": [
    "peek('datasets/DBpedia/instance_types_en.ttl', 10)"
   ]
  },
  {
   "cell_type": "code",
   "execution_count": 107,
   "metadata": {},
   "outputs": [
    {
     "output_type": "stream",
     "name": "stdout",
     "text": [
      "<http://dbpedia.org/resource/Autism> <http://dbpedia.org/ontology/icd10> \"F84.0\" .\n<http://dbpedia.org/resource/Autism> <http://dbpedia.org/ontology/icd9> \"299.00\" .\n<http://dbpedia.org/resource/Autism> <http://dbpedia.org/ontology/omim> \"209850\"^^<http://www.w3.org/2001/XMLSchema#integer> .\n<http://dbpedia.org/resource/Autism> <http://dbpedia.org/ontology/meshId> \"D001321\" .\n<http://dbpedia.org/resource/Autism> <http://xmlns.com/foaf/0.1/name> \"Autism\"@en .\n<http://dbpedia.org/resource/Alabama> <http://xmlns.com/foaf/0.1/name> \"State of Alabama\"@en .\n<http://dbpedia.org/resource/Alabama> <http://dbpedia.org/ontology/demonym> \"Alabaman or Alabamian\"@en .\n<http://dbpedia.org/resource/Alabama> <http://dbpedia.org/ontology/areaTotal> \"1.35765E11\"^^<http://www.w3.org/2001/XMLSchema#double> .\n<http://dbpedia.org/resource/Alabama> <http://dbpedia.org/ontology/areaLand> \"1.31426E11\"^^<http://www.w3.org/2001/XMLSchema#double> .\n"
     ]
    }
   ],
   "source": [
    "peek('datasets/DBpedia/mappingbased_literals_en.ttl', 10)"
   ]
  },
  {
   "cell_type": "code",
   "execution_count": 108,
   "metadata": {},
   "outputs": [
    {
     "output_type": "stream",
     "name": "stdout",
     "text": [
      "<http://dbpedia.org/resource/Anarchism> <http://www.w3.org/2000/01/rdf-schema#seeAlso> <http://dbpedia.org/resource/Anarchist_terminology> .\n<http://dbpedia.org/resource/Anarchism> <http://www.w3.org/2000/01/rdf-schema#seeAlso> <http://dbpedia.org/resource/Anarchism> .\n<http://dbpedia.org/resource/Anarchism> <http://www.w3.org/2000/01/rdf-schema#seeAlso> <http://dbpedia.org/resource/France> .\n<http://dbpedia.org/resource/Anarchism> <http://www.w3.org/2000/01/rdf-schema#seeAlso> <http://dbpedia.org/resource/Violence> .\n<http://dbpedia.org/resource/Anarchism> <http://www.w3.org/2000/01/rdf-schema#seeAlso> <http://dbpedia.org/resource/Education> .\n<http://dbpedia.org/resource/Alabama> <http://dbpedia.org/ontology/country> <http://dbpedia.org/resource/United_States> .\n<http://dbpedia.org/resource/Alabama> <http://dbpedia.org/ontology/language> <http://dbpedia.org/resource/English_American> .\n<http://dbpedia.org/resource/Alabama> <http://dbpedia.org/ontology/capital> <http://dbpedia.org/resource/Montgomery,_Alabama> .\n<http://dbpedia.org/resource/Alabama> <http://dbpedia.org/ontology/largestCity> <http://dbpedia.org/resource/Birmingham,_Alabama> .\n"
     ]
    }
   ],
   "source": [
    "peek('datasets/DBpedia/mappingbased_objects_en.ttl', 10)"
   ]
  },
  {
   "cell_type": "code",
   "execution_count": 117,
   "metadata": {},
   "outputs": [
    {
     "output_type": "execute_result",
     "data": {
      "text/plain": [
       "{'abstract': ['In Greek mythology, Achilles (/əˈkɪliːz/; Ancient Greek: Ἀχιλλεύς, Akhilleus, pronounced [akʰilːéu̯s]) was a Greek hero of the Trojan War and the central character and greatest warrior of Homers Iliad. His mother was the nymph Thetis, and his father, Peleus, was the king of the Myrmidons. Achilles’ most notable feat during the Trojan War was the slaying of the Trojan hero Hector outside the gates of Troy. Although the death of Achilles is not presented in the Iliad, other sources concur that he was killed near the end of the Trojan War by Paris, who shot him in the heel with an arrow. Later legends (beginning with a poem by Statius in the 1st century AD) state that Achilles was invulnerable in all of his body except for his heel. Because of his death from a small wound in the heel, the term Achilles heel has come to mean a persons point of weakness.'],\n",
       " 'subject': ['Characters in the Iliad',\n",
       "  'Demigods of Classical mythology',\n",
       "  'Kings of the Myrmidons',\n",
       "  'Greek mythological hero cult',\n",
       "  'People of the Trojan War',\n",
       "  'Thessalians in the Trojan War']}"
      ]
     },
     "metadata": {},
     "execution_count": 117
    }
   ],
   "source": [
    "kv=loadData(500)\n",
    "kv['Achilles']"
   ]
  },
  {
   "cell_type": "code",
   "execution_count": 110,
   "metadata": {},
   "outputs": [
    {
     "output_type": "execute_result",
     "data": {
      "text/plain": [
       "['Animalia (book)',\n",
       " 'Actrius',\n",
       " 'Alain Connes',\n",
       " 'Agricultural science',\n",
       " 'International Atomic Time',\n",
       " 'Astronomer',\n",
       " 'An American in Paris',\n",
       " 'Allan Dwan',\n",
       " 'List of Atlas Shrugged characters',\n",
       " 'Achilles',\n",
       " 'A',\n",
       " 'Arraignment',\n",
       " 'Answer',\n",
       " 'Appellate court',\n",
       " 'Albedo']"
      ]
     },
     "metadata": {},
     "execution_count": 110
    }
   ],
   "source": [
    "list(kv.keys())[:15]"
   ]
  },
  {
   "cell_type": "code",
   "execution_count": null,
   "metadata": {},
   "outputs": [],
   "source": []
  }
 ],
 "metadata": {
  "kernelspec": {
   "display_name": "Python 3",
   "language": "python",
   "name": "python3"
  },
  "language_info": {
   "codemirror_mode": {
    "name": "ipython",
    "version": 3
   },
   "file_extension": ".py",
   "mimetype": "text/x-python",
   "name": "python",
   "nbconvert_exporter": "python",
   "pygments_lexer": "ipython3",
   "version": "3.7.6-final"
  }
 },
 "nbformat": 4,
 "nbformat_minor": 4
}