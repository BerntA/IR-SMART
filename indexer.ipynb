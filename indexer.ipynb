{
 "cells": [
  {
   "cell_type": "code",
   "execution_count": 1,
   "metadata": {},
   "outputs": [],
   "source": [
    "import math\n",
    "import random\n",
    "import numpy as np\n",
    "import elasticsearch\n",
    "from collections import Counter\n",
    "from nltk.tokenize import sent_tokenize, word_tokenize\n",
    "from nltk.corpus import stopwords\n",
    "from elasticsearch import Elasticsearch, helpers"
   ]
  },
  {
   "cell_type": "code",
   "execution_count": 2,
   "metadata": {},
   "outputs": [
    {
     "data": {
      "text/plain": [
       "{'name': 'BERNTA-PC',\n",
       " 'cluster_name': 'elasticsearch',\n",
       " 'cluster_uuid': 'IP06yo9vScKZA1ZTb8R9HA',\n",
       " 'version': {'number': '7.9.2',\n",
       "  'build_flavor': 'default',\n",
       "  'build_type': 'zip',\n",
       "  'build_hash': 'd34da0ea4a966c4e49417f2da2f244e3e97b4e6e',\n",
       "  'build_date': '2020-09-23T00:45:33.626720Z',\n",
       "  'build_snapshot': False,\n",
       "  'lucene_version': '8.6.2',\n",
       "  'minimum_wire_compatibility_version': '6.8.0',\n",
       "  'minimum_index_compatibility_version': '6.0.0-beta1'},\n",
       " 'tagline': 'You Know, for Search'}"
      ]
     },
     "execution_count": 2,
     "metadata": {},
     "output_type": "execute_result"
    }
   ],
   "source": [
    "es = Elasticsearch()\n",
    "es.info()"
   ]
  },
  {
   "cell_type": "code",
   "execution_count": 3,
   "metadata": {},
   "outputs": [],
   "source": [
    "FIELDS = ['abstract', 'subject']\n",
    "INDEX_NAME = 'fasttest'\n",
    "INDEX_SETTINGS = {\n",
    "    'mappings': {\n",
    "            'properties': {\n",
    "                'abstract': {\n",
    "                    'type': 'text',\n",
    "                    'term_vector': 'yes',\n",
    "                    'analyzer': 'english'\n",
    "                },\n",
    "                'subject': {\n",
    "                    'type': 'text',\n",
    "                    'term_vector': 'yes',\n",
    "                    'analyzer': 'english'\n",
    "                }\n",
    "            }\n",
    "        }\n",
    "    }"
   ]
  },
  {
   "cell_type": "code",
   "execution_count": 4,
   "metadata": {},
   "outputs": [
    {
     "data": {
      "text/plain": [
       "{'acknowledged': True, 'shards_acknowledged': True, 'index': 'fasttest'}"
      ]
     },
     "execution_count": 4,
     "metadata": {},
     "output_type": "execute_result"
    }
   ],
   "source": [
    "if es.indices.exists(INDEX_NAME):\n",
    "    es.indices.delete(index=INDEX_NAME)    \n",
    "es.indices.create(index=INDEX_NAME, body=INDEX_SETTINGS)"
   ]
  },
  {
   "cell_type": "code",
   "execution_count": 5,
   "metadata": {},
   "outputs": [
    {
     "name": "stdout",
     "output_type": "stream",
     "text": [
      "{'have', 'for', 'about', 'those', \"wasn't\", 'than', 'because', 'you', 'their', 'should', 'between', 's', 'some', 'own', 't', \"isn't\", 'too', 'yours', 'under', \"doesn't\", 'and', 'at', 'was', 'we', 'what', 'ma', 'themselves', 'whom', 'during', 'both', 'does', 'had', 'where', 'shouldn', 'out', 'they', 'am', 'as', 'by', 'all', 'other', 'him', 'll', 'himself', \"mightn't\", 'my', 'doesn', \"you'd\", 'myself', 'itself', 'yourselves', 'mightn', 'into', 'are', \"that'll\", 'no', \"won't\", 'our', 'been', 'weren', 'is', 'such', 'a', 'with', \"haven't\", 'any', \"weren't\", 'his', 'but', 'down', \"hadn't\", 'doing', \"don't\", 'this', 'same', 'i', 'on', 'an', 'why', 'just', 'wouldn', 'up', 'hers', \"mustn't\", 'over', 'has', 'don', 'to', \"it's\", 'while', 'will', 'that', 'he', 'above', \"you'll\", 'hadn', 'were', 'didn', 'your', 'it', 'ain', 'further', 'again', 'before', 'm', 'do', 'd', 'off', 'theirs', 'who', 'its', 'y', \"you're\", 'ours', 'did', 'here', 'isn', \"shouldn't\", 'of', 'herself', \"couldn't\", 'these', 'against', 'being', 'each', 'very', \"she's\", 'once', 'more', 'aren', 'needn', 'her', 'until', 'be', \"should've\", 'o', 'me', 'ourselves', 'she', \"hasn't\", 'mustn', 'when', 'if', \"didn't\", \"needn't\", 've', 'won', 'most', 'them', 'from', \"shan't\", 'or', 'yourself', 'after', 'couldn', 'only', 're', 'below', 'which', 'there', 'not', 'can', 'haven', 'having', \"you've\", 'how', 'so', 'the', 'in', \"aren't\", 'hasn', 'then', \"wouldn't\", 'shan', 'nor', 'now', 'few', 'wasn', 'through'}\n"
     ]
    }
   ],
   "source": [
    "stop_words = set(stopwords.words('english'))\n",
    "print(stop_words) # Needed?"
   ]
  },
  {
   "cell_type": "code",
   "execution_count": 6,
   "metadata": {},
   "outputs": [],
   "source": [
    "def peek(filename, size, enc='utf-8'):\n",
    "    \"\"\"\n",
    "    Print out the first X lines in the file.\n",
    "    \"\"\"\n",
    "    if size <= 0:\n",
    "        print(\"Size must be greater than zero!\")\n",
    "        return\n",
    "\n",
    "    with open(filename, encoding=enc) as f:\n",
    "        for i,line in enumerate(f):\n",
    "            if (size >= 0) and (i >= size):\n",
    "                break\n",
    "            if i == 0: # Skip top line.\n",
    "                continue\n",
    "            print(line.strip())"
   ]
  },
  {
   "cell_type": "code",
   "execution_count": 7,
   "metadata": {},
   "outputs": [],
   "source": [
    "def loadCategories():\n",
    "    kv = {}\n",
    "    with open('datasets/DBpedia/article_categories_en.ttl', encoding='utf-8') as f:\n",
    "        for i, line in enumerate(f):\n",
    "            if i == 0: # Skip top line.\n",
    "                continue\n",
    "            line = line.strip().replace('\"', '').replace('\\'', '').split(' ')\n",
    "            entity = line[0].replace('<', '').replace('>', '').split('/')[-1].replace('_', ' ')\n",
    "            subject = line[2].replace('<', '').replace('>', '').split('/')[-1][len('Category:'):].replace('_', ' ')\n",
    "            if not entity in kv:\n",
    "                kv[entity] = []\n",
    "            kv[entity].append(subject)\n",
    "    return kv\n",
    "\n",
    "def loadAbstracts(size=5000):\n",
    "    kv = {}\n",
    "    with open('datasets/DBpedia/long_abstracts_en.ttl', encoding='utf-8') as f:\n",
    "        for i, line in enumerate(f):\n",
    "            if (i >= size):\n",
    "                break\n",
    "            if i == 0: # Skip top line.\n",
    "                continue\n",
    "            \n",
    "            line = line.strip().replace('\"', '').replace('\\'', '').split(' ')\n",
    "            a = line[0].replace('<', '').replace('>', '').split('/')[-1].replace('_', ' ')\n",
    "            #b = line[1].replace('<', '').replace('>', '').split('/')[-1].replace('_', ' ')\n",
    "            c = ' '.join(line[2:]).replace('@en .', '')\n",
    "            kv[a] = c\n",
    "    return kv"
   ]
  },
  {
   "cell_type": "code",
   "execution_count": 15,
   "metadata": {},
   "outputs": [],
   "source": [
    "#SUBJECTS_CATEGORIES = loadCategories() # Might take some time to run!"
   ]
  },
  {
   "cell_type": "code",
   "execution_count": 16,
   "metadata": {},
   "outputs": [],
   "source": [
    "#len(SUBJECTS_CATEGORIES) # 5 mill junk"
   ]
  },
  {
   "cell_type": "code",
   "execution_count": 17,
   "metadata": {},
   "outputs": [],
   "source": [
    "def parseLine(data, line):\n",
    "    \"\"\"\n",
    "    Parse a line of text, add its details to the key value dict.\n",
    "    \"\"\"        \n",
    "    line = line.strip().replace('\"', '').replace('\\'', '').split(' ')\n",
    "    a = line[0].replace('<', '').replace('>', '').split('/')[-1].replace('_', ' ')\n",
    "    b = line[1].replace('<', '').replace('>', '').split('/')[-1].replace('_', ' ')\n",
    "    if not a in data:\n",
    "        data[a] = {'abstract': '', 'subject': []} # Default dict. structure for an entity? (' '.join(field) will be done before indexing elasticsearch)\n",
    "\n",
    "    if line[2].startswith('<'):\n",
    "        c = line[2].replace('<', '').replace('>', '').split('/')[-1][len('Category:'):].replace('_', ' ')\n",
    "        data[a][b].append(c)\n",
    "    else:\n",
    "        c = ' '.join(line[2:]).replace('@en .', '')\n",
    "        data[a][b] = c\n",
    "\n",
    "def indexData(size=5000):\n",
    "    \"\"\"\n",
    "    Index the data, size = how many lines to process at a time, in bulk idx.\n",
    "    \"\"\"\n",
    "    files = [\n",
    "        ('datasets/DBpedia/long_abstracts_en.ttl', 'utf-8'),\n",
    "        ('datasets/DBpedia/article_categories_en.ttl', 'utf-8')\n",
    "    ]\n",
    "    files = [open(f, 'r', encoding=e) for f, e in files] # Datasets to index.\n",
    "    linesProcessed = 0\n",
    "    kv = {}\n",
    "    try:\n",
    "        abstractFile, categoriesFile = files[0], files[1]        \n",
    "        lineA, lineB = next(abstractFile), next(categoriesFile) # Skip top lines!        \n",
    "        while lineA or lineB:\n",
    "            lineA, lineB = next(abstractFile), next(categoriesFile)\n",
    "            parseLine(kv, lineA)\n",
    "            parseLine(kv, lineB)            \n",
    "            linesProcessed += 1\n",
    "\n",
    "            # Have we processed enough? Batch index these entries if so.\n",
    "            if (linesProcessed % size) == 0: # Refresh\n",
    "                actions = []\n",
    "                for k,v in kv.items():\n",
    "                    actions.append({\n",
    "                        \"_id\": k, \n",
    "                        \"_source\": {'abstract': v['abstract'], 'subject': ', '.join(v['subject'])}\n",
    "                        })\n",
    "                response = helpers.bulk(es, actions, index=INDEX_NAME)\n",
    "                print(\"BulkResponse:\", response)\n",
    "                kv.clear()\n",
    "                del actions[0:len(actions)]\n",
    "                break # <- Remove me when we know that this is good enuff...\n",
    "    except Exception as e:\n",
    "        print(e)\n",
    "    finally:\n",
    "        for f in files:\n",
    "            f.close()"
   ]
  },
  {
   "cell_type": "code",
   "execution_count": 18,
   "metadata": {
    "tags": []
   },
   "outputs": [
    {
     "name": "stdout",
     "output_type": "stream",
     "text": [
      "BulkResponse: (10024, [])\n"
     ]
    }
   ],
   "source": [
    "indexData(10000)"
   ]
  },
  {
   "cell_type": "code",
   "execution_count": 166,
   "metadata": {},
   "outputs": [
    {
     "name": "stdout",
     "output_type": "stream",
     "text": [
      "<http://dbpedia.org/resource/Anarchism> <http://dbpedia.org/property/voy> \"no\"^^<http://www.w3.org/1999/02/22-rdf-syntax-ns#langString> .\n",
      "<http://dbpedia.org/resource/Anarchism> <http://dbpedia.org/property/n> \"no\"^^<http://www.w3.org/1999/02/22-rdf-syntax-ns#langString> .\n",
      "<http://dbpedia.org/resource/Anarchism> <http://dbpedia.org/property/v> \"no\"^^<http://www.w3.org/1999/02/22-rdf-syntax-ns#langString> .\n"
     ]
    }
   ],
   "source": [
    "peek('datasets/DBpedia/infobox_properties_en.ttl', 4)"
   ]
  },
  {
   "cell_type": "code",
   "execution_count": 141,
   "metadata": {},
   "outputs": [
    {
     "name": "stdout",
     "output_type": "stream",
     "text": [
      "<http://dbpedia.org/resource/Animalia_(book)> <http://dbpedia.org/ontology/abstract> \"Animalia is an illustrated children's book by Graeme Base. It was originally published in 1986, followed by a tenth anniversary edition in 1996, and a 25th anniversary edition in 2012. Over three million copies have been sold. A special numbered and signed anniversary edition was also published in 1996, with an embossed gold jacket.\"@en .\n",
      "<http://dbpedia.org/resource/Actrius> <http://dbpedia.org/ontology/abstract> \"Actresses (Catalan: Actrius) is a 1997 Catalan language Spanish drama film produced and directed by Ventura Pons and based on the award-winning stage play E.R. by Josep Maria Benet i Jornet. The film has no male actors, with all roles played by females. The film was produced in 1996.\"@en .\n",
      "<http://dbpedia.org/resource/Alain_Connes> <http://dbpedia.org/ontology/abstract> \"Alain Connes (French: [alɛ̃ kɔn]; born 1 April 1947) is a French mathematician, currently Professor at the Collège de France, IHÉS, The Ohio State University and Vanderbilt University. He was an Invited Professor at the Conservatoire national des arts et métiers (2000).\"@en .\n"
     ]
    }
   ],
   "source": [
    "peek('datasets/DBpedia/long_abstracts_en.ttl', 4)"
   ]
  },
  {
   "cell_type": "code",
   "execution_count": 142,
   "metadata": {},
   "outputs": [
    {
     "name": "stdout",
     "output_type": "stream",
     "text": [
      "<http://dbpedia.org/resource/Computer_accessibility> <http://dbpedia.org/ontology/wikiPageWikiLinkText> \"Computer accessibility\"@en .\n",
      "<http://dbpedia.org/resource/History_of_Afghanistan> <http://dbpedia.org/ontology/wikiPageWikiLinkText> \"History of Afghanistan\"@en .\n",
      "<http://dbpedia.org/resource/Geography_of_Afghanistan> <http://dbpedia.org/ontology/wikiPageWikiLinkText> \"Geography of Afghanistan\"@en .\n"
     ]
    }
   ],
   "source": [
    "peek('datasets/DBpedia/anchor_text_en.ttl', 4)"
   ]
  },
  {
   "cell_type": "code",
   "execution_count": 143,
   "metadata": {},
   "outputs": [
    {
     "name": "stdout",
     "output_type": "stream",
     "text": [
      "<http://dbpedia.org/resource/A> <http://purl.org/dc/terms/subject> <http://dbpedia.org/resource/Category:ISO_basic_Latin_letters> .\n",
      "<http://dbpedia.org/resource/A> <http://purl.org/dc/terms/subject> <http://dbpedia.org/resource/Category:Vowel_letters> .\n",
      "<http://dbpedia.org/resource/Achilles> <http://purl.org/dc/terms/subject> <http://dbpedia.org/resource/Category:Characters_in_the_Iliad> .\n"
     ]
    }
   ],
   "source": [
    "peek('datasets/DBpedia/article_categories_en.ttl', 4)"
   ]
  },
  {
   "cell_type": "code",
   "execution_count": 144,
   "metadata": {},
   "outputs": [
    {
     "name": "stdout",
     "output_type": "stream",
     "text": [
      "<http://dbpedia.org/resource/Anarchism> <http://www.w3.org/1999/02/22-rdf-syntax-ns#type> <http://www.w3.org/2002/07/owl#Thing> .\n",
      "<http://dbpedia.org/resource/Achilles> <http://www.w3.org/1999/02/22-rdf-syntax-ns#type> <http://www.w3.org/2002/07/owl#Thing> .\n",
      "<http://dbpedia.org/resource/Autism> <http://www.w3.org/1999/02/22-rdf-syntax-ns#type> <http://dbpedia.org/ontology/Disease> .\n"
     ]
    }
   ],
   "source": [
    "peek('datasets/DBpedia/instance_types_en.ttl', 4)"
   ]
  },
  {
   "cell_type": "code",
   "execution_count": 145,
   "metadata": {},
   "outputs": [
    {
     "name": "stdout",
     "output_type": "stream",
     "text": [
      "<http://dbpedia.org/resource/Autism> <http://dbpedia.org/ontology/icd10> \"F84.0\" .\n",
      "<http://dbpedia.org/resource/Autism> <http://dbpedia.org/ontology/icd9> \"299.00\" .\n",
      "<http://dbpedia.org/resource/Autism> <http://dbpedia.org/ontology/omim> \"209850\"^^<http://www.w3.org/2001/XMLSchema#integer> .\n"
     ]
    }
   ],
   "source": [
    "peek('datasets/DBpedia/mappingbased_literals_en.ttl', 4)"
   ]
  },
  {
   "cell_type": "code",
   "execution_count": 146,
   "metadata": {},
   "outputs": [
    {
     "name": "stdout",
     "output_type": "stream",
     "text": [
      "<http://dbpedia.org/resource/Anarchism> <http://www.w3.org/2000/01/rdf-schema#seeAlso> <http://dbpedia.org/resource/Anarchist_terminology> .\n",
      "<http://dbpedia.org/resource/Anarchism> <http://www.w3.org/2000/01/rdf-schema#seeAlso> <http://dbpedia.org/resource/Anarchism> .\n",
      "<http://dbpedia.org/resource/Anarchism> <http://www.w3.org/2000/01/rdf-schema#seeAlso> <http://dbpedia.org/resource/France> .\n"
     ]
    }
   ],
   "source": [
    "peek('datasets/DBpedia/mappingbased_objects_en.ttl', 4)"
   ]
  },
  {
   "cell_type": "code",
   "execution_count": 168,
   "metadata": {},
   "outputs": [],
   "source": [
    "#es.update(index=INDEX_NAME, id='Achilles', body={\"doc\": {'abstract':kv['Achilles']['abstract'][0]}})\n",
    "#es.update(index=INDEX_NAME, id='Achilles', body={\"doc\": {'subject':\" \".join(kv['Achilles']['subject'])}})\n",
    "#es.update(index=INDEX_NAME, id='Achilles', body={\"doc\": {'subject':\" \".join(['meep', 'beep'])}})"
   ]
  },
  {
   "cell_type": "code",
   "execution_count": 19,
   "metadata": {},
   "outputs": [
    {
     "data": {
      "text/plain": [
       "{'took': 1460,\n",
       " 'timed_out': False,\n",
       " '_shards': {'total': 1, 'successful': 1, 'skipped': 0, 'failed': 0},\n",
       " 'hits': {'total': {'value': 264, 'relation': 'eq'},\n",
       "  'max_score': 8.064013,\n",
       "  'hits': [{'_index': 'fasttest',\n",
       "    '_type': '_doc',\n",
       "    '_id': 'Religion and mythology',\n",
       "    '_score': 8.064013,\n",
       "    '_source': {'abstract': 'Religion and mythology differ in scope but have overlapping aspects. Both terms refer to systems of concepts that are of high importance to a certain community, making statements concerning the supernatural or sacred. Generally, mythology is considered one component or aspect of religion. Religion is the broader term: besides mythological aspects, it includes aspects of ritual, morality, theology, and mystical experience. A given mythology is almost always associated with a certain religion such as Greek mythology with Ancient Greek religion. Disconnected from its religious system, a myth may lose its immediate relevance to the community and evolve—away from sacred importance—into a legend or folktale.',\n",
       "     'subject': ''}},\n",
       "   {'_index': 'fasttest',\n",
       "    '_type': '_doc',\n",
       "    '_id': 'Irish mythology',\n",
       "    '_score': 7.9831557,\n",
       "    '_source': {'abstract': 'The mythology of pre-Christian Ireland did not entirely survive the conversion to Christianity. However, much of it was preserved in medieval Irish literature, though it was shorn of its religious meanings. This literature represents the most extensive and best preserved of all the branches of Celtic mythology. Although many of the manuscripts have not survived and much more material was probably never committed to writing, there is enough remaining to enable the identification of distinct, if overlapping, cycles: the Mythological Cycle, the Ulster Cycle, the Fenian Cycle and the Historical Cycle. There are also a number of extant mythological texts that do not fit into any of the cycles. Additionally, there are a large number of recorded folk tales that, while not strictly mythological, feature personages from one or more of these four cycles.',\n",
       "     'subject': ''}},\n",
       "   {'_index': 'fasttest',\n",
       "    '_type': '_doc',\n",
       "    '_id': 'Mythology',\n",
       "    '_score': 7.39034,\n",
       "    '_source': {'abstract': 'Mythology can refer to the collected myths of a group of people—their collection of stories they tell to explain nature, history, and customs—or to the study of such myths. As a collection of explanatory stories, mythology is a vital feature of every culture. Many sources for myths have been proposed, ranging from personification of nature or personification of natural phenomena, to truthful or hyperbolic accounts of historical events to explanations of existing rituals. Although the term is complicated by its implicit condescension, mythologizing is not just an ancient or primitive practice, as shown by contemporary mythopoeia such as urban legends and the expansive fictional mythoi created by fantasy novels and comics. A cultures collective mythology helps convey belonging, shared and religious experiences, behavioral models, and moral and practical lessons. The study of myth dates back to ancient history. Rival classes of the Greek myths by Euhemerus, Plato, and Sallustius were developed by the Neoplatonists, and later revived by Renaissance mythographers. The nineteenth-century comparative mythology reinterpreted myth as a primitive and failed counterpart of science (E. B. Tylor), a \\\\disease of language\\\\ (Max Müller), or a misinterpretation of magical ritual (James Frazer). Recent approaches have rejected conflict between the value of myth and rational thought, often viewing myths as expressions to understand general psychological, cultural, or societal truths, rather than as inaccurate historical accounts.',\n",
       "     'subject': ''}},\n",
       "   {'_index': 'fasttest',\n",
       "    '_type': '_doc',\n",
       "    '_id': 'Aeneas',\n",
       "    '_score': 7.3639474,\n",
       "    '_source': {'abstract': 'In Greco-Roman mythology, Aeneas (/ᵻˈniːəs/; Greek: Αἰνείας, Aineías, possibly derived from Greek αἰνή meaning \\\\praised\\\\) was a Trojan hero, the son of the prince Anchises and the goddess Venus (Aphrodite). His father was a first cousin of King Priam of Troy (both being grandsons of Ilus, founder of Troy), making Aeneas a second cousin to Priams children (such as Hector and Paris). He is a character in Greek mythology and is mentioned in Homers Iliad. Aeneas receives full treatment in Roman mythology, most extensively in Virgils Aeneid where he is an ancestor of Romulus and Remus. He became the first true hero of Rome.',\n",
       "     'subject': 'Trojans, Characters in the Aeneid, Characters in the Iliad, Characters in works by Geoffrey of Monmouth, Heroes in mythology and legend, Offspring of Aphrodite, People of the Trojan War, Roman mythology, Heroes who ventured to Hades'}},\n",
       "   {'_index': 'fasttest',\n",
       "    '_type': '_doc',\n",
       "    '_id': 'Baldr',\n",
       "    '_score': 7.2067947,\n",
       "    '_source': {'abstract': 'Baldr (also Balder, Baldur) is a god in Norse mythology, who is given a central role in the mythology. Despite this his precise function is rather disputed. He is often interpreted as the god of love, peace, forgiveness, justice, light or purity, but was not directly attested as a god of such. He is the second son of Odin and the goddess Frigg. His twin brother is the blind god Höðr.',\n",
       "     'subject': ''}},\n",
       "   {'_index': 'fasttest',\n",
       "    '_type': '_doc',\n",
       "    '_id': 'Banshee',\n",
       "    '_score': 7.0473185,\n",
       "    '_source': {'abstract': 'A banshee (/ˈbænʃiː/ BAN-shee, Modern Irish bean sí, from Old Irish: ban síde, pronounced [bʲan ˈʃiːðʲe], \\\\woman of the fairy mound\\\\ or \\\\fairy woman\\\\) is a female spirit in Irish mythology who heralds the death of a family member, usually by shrieking or keening. Her name is connected to the mythologically-important tumuli or \\\\mounds\\\\ that dot the Irish countryside, which are known as síde (singular síd) in Old Irish.',\n",
       "     'subject': ''}},\n",
       "   {'_index': 'fasttest',\n",
       "    '_type': '_doc',\n",
       "    '_id': 'The Morrígan',\n",
       "    '_score': 7.038449,\n",
       "    '_source': {'abstract': 'The Morrígan (\\\\phantom queen\\\\) or Mórrígan (\\\\great queen\\\\), also known as Morrígu, is a figure from Irish mythology. The name is spelled Morríghan or Mór-ríoghain in Modern Irish. The Morrígan is primarily associated with fate, especially with foretelling doom and death in battle. In this role she appears as a crow, flying above the battlefield. The Morrígan has thus been likened to the Valkyries of Norse mythology and Norns of Germanic mythology. She is also associated with sovereignty, and her connection with cattle may also suggest an association with wealth and the land. The Morrígan is often described as a trio of individuals, all sisters, called the three Morrígna. Although membership of the triad varies, the most common combination in modern sources is Badb, Macha and Nemain. However the primary sources indicate a more likely triad of Badb, Macha and Anand; Anand is also given as another name for the Morrígan. Other accounts name Fea and others.',\n",
       "     'subject': ''}},\n",
       "   {'_index': 'fasttest',\n",
       "    '_type': '_doc',\n",
       "    '_id': 'Bragi',\n",
       "    '_score': 6.9963565,\n",
       "    '_source': {'abstract': 'Bragi is the skaldic god of poetry in Norse mythology.',\n",
       "     'subject': ''}},\n",
       "   {'_index': 'fasttest',\n",
       "    '_type': '_doc',\n",
       "    '_id': 'Christian mythology',\n",
       "    '_score': 6.9963565,\n",
       "    '_source': {'abstract': 'Christian mythology is the body of myths associated with Christianity.',\n",
       "     'subject': ''}},\n",
       "   {'_index': 'fasttest',\n",
       "    '_type': '_doc',\n",
       "    '_id': 'Aos Sí',\n",
       "    '_score': 6.936251,\n",
       "    '_source': {'abstract': 'The aos sí ([eːs ˈʃiː], older form aes sídhe [eːs ˈʃiːðʲə]) is the Irish term for a supernatural race in Irish mythology and Scottish mythology (usually spelled Sìth, however pronounced the same), comparable to the fairies or elves. They are said to live underground in fairy mounds, across the western sea, or in an invisible world that coexists with the world of humans. This world is described in the Lebor Gabála Érenn as a parallel universe in which the aos sí walk amongst the living. In the Irish language, aos sí means \\\\people of the mounds\\\\ (the mounds are known in Irish as \\\\the sídhe). In Irish literature the people of the mounds are also called daoine sídhe [ˈdiːnʲə ˈʃiːə]; in Scottish mythology they are daoine sìth. They are variously said to be the ancestors, the spirits of nature, or goddesses and gods. Some secondary and tertiary sources, including well-known and influential authors such as W. B. Yeats, refer to aos sí simply as \\\\the sídhe (lit. \\\\mounds\\\\).',\n",
       "     'subject': ''}},\n",
       "   {'_index': 'fasttest',\n",
       "    '_type': '_doc',\n",
       "    '_id': 'Tantalus',\n",
       "    '_score': 6.8576303,\n",
       "    '_source': {'abstract': 'Tantalus (Ancient Greek: Τάνταλος, Tántalos) was a Greek mythological figure, most famous for his eternal punishment in Tartarus. He was made to stand in a pool of water beneath a fruit tree with low branches, with the fruit ever eluding his grasp, and the water always receding before he could take a drink. He was the father of Pelops, Niobe and Broteas, and was a son of Zeus and the nymph Plouto. Thus, like other heroes in Greek mythology such as Theseus and the Dioskouroi, Tantalus had both a hidden, divine parent and a mortal one.',\n",
       "     'subject': ''}},\n",
       "   {'_index': 'fasttest',\n",
       "    '_type': '_doc',\n",
       "    '_id': 'Geri and Freki',\n",
       "    '_score': 6.8576303,\n",
       "    '_source': {'abstract': 'In Norse mythology, Geri and Freki (Old Norse, both meaning \\\\the ravenous\\\\ or \\\\greedy one\\\\) are two wolves which are said to accompany the god Odin. They are attested in the Poetic Edda, a collection of epic poetry compiled in the 13th century from earlier traditional sources, in the Prose Edda, written in the 13th century by Snorri Sturluson, and in the poetry of skalds. The pair has been compared to similar figures found in Greek, Roman and Vedic mythology, and may also be connected to beliefs surrounding the Germanic \\\\wolf-warrior bands\\\\, the Úlfhéðnar.',\n",
       "     'subject': ''}},\n",
       "   {'_index': 'fasttest',\n",
       "    '_type': '_doc',\n",
       "    '_id': 'Jötunheimr',\n",
       "    '_score': 6.84596,\n",
       "    '_source': {'abstract': 'Jötunheimr (or Jǫtunheimr; often anglicized as Jotunheim) is the homeland of the Jötnar, the giants in Norse mythology.',\n",
       "     'subject': ''}},\n",
       "   {'_index': 'fasttest',\n",
       "    '_type': '_doc',\n",
       "    '_id': 'Amphisbaena',\n",
       "    '_score': 6.836979,\n",
       "    '_source': {'abstract': 'The amphisbaena (/ˌæmfɪsˈbiːnə/, plural: amphisbaenae) is a mythological, ant-eating serpent with a head at each end. The creature is alternately called the amphisbaina, amphisbene, amphisboena, amphisbona, amphista, amfivena, amphivena, or anphivena (the last two being feminine), and is also known as the \\\\Mother of Ants\\\\. Its name comes from the Greek words amphis, meaning \\\\both ways\\\\, and bainein, meaning \\\\to go\\\\. According to Greek mythology, the amphisbaena was spawned from the blood that dripped from the Gorgon Medusas head as Perseus flew over the Libyan Desert with it in his hand, after which Catos army then encountered it along with other serpents on the march. Amphisbaena fed off of the corpses left behind. The amphisbaena has been referred to by various poets such as Nicander, John Milton, Alexander Pope, Percy Bysshe Shelley, Alfred, Lord Tennyson, A. E. Housman and Allen Mandelbaum; as a mythological and legendary creature, it has been referenced by Lucan, Pliny the Elder, Isidore of Seville, and Thomas Browne, the last of whom debunked its existence.',\n",
       "     'subject': 'Greek legendary creatures, Legendary serpents, Reptile cryptids'}},\n",
       "   {'_index': 'fasttest',\n",
       "    '_type': '_doc',\n",
       "    '_id': 'Dryope',\n",
       "    '_score': 6.809366,\n",
       "    '_source': {'abstract': 'In Greek mythology, Dryope (/ˈdraɪ.əpiː/; Greek: Δρυόπη) is the name attributed to several distinct figures.',\n",
       "     'subject': ''}}]}}"
      ]
     },
     "execution_count": 19,
     "metadata": {},
     "output_type": "execute_result"
    }
   ],
   "source": [
    "es.search(index=INDEX_NAME, body={'query': {'match': {'abstract': 'mythology'}}}, _source=True, size=15)"
   ]
  },
  {
   "cell_type": "code",
   "execution_count": 206,
   "metadata": {},
   "outputs": [
    {
     "data": {
      "text/plain": [
       "850298"
      ]
     },
     "execution_count": 206,
     "metadata": {},
     "output_type": "execute_result"
    }
   ],
   "source": [
    "x = loadCategories(5000000)\n",
    "len(x)"
   ]
  },
  {
   "cell_type": "code",
   "execution_count": 208,
   "metadata": {},
   "outputs": [
    {
     "data": {
      "text/plain": [
       "['Apollo',\n",
       " 'Arts gods',\n",
       " 'Deities in the Iliad',\n",
       " 'Dragonslayers',\n",
       " 'Health gods',\n",
       " 'Knowledge gods',\n",
       " 'LGBT themes in mythology',\n",
       " 'Muses',\n",
       " 'Temples of Apollo',\n",
       " 'Mythological Greek archers',\n",
       " 'Mythological rapists',\n",
       " 'Oracular gods',\n",
       " 'Roman gods',\n",
       " 'Solar gods']"
      ]
     },
     "execution_count": 208,
     "metadata": {},
     "output_type": "execute_result"
    }
   ],
   "source": [
    "x['Apollo']"
   ]
  },
  {
   "cell_type": "code",
   "execution_count": 215,
   "metadata": {},
   "outputs": [
    {
     "data": {
      "text/plain": [
       "4931948"
      ]
     },
     "execution_count": 215,
     "metadata": {},
     "output_type": "execute_result"
    }
   ],
   "source": [
    "y = loadAbstracts(5000000)\n",
    "len(y)"
   ]
  },
  {
   "cell_type": "code",
   "execution_count": 213,
   "metadata": {},
   "outputs": [
    {
     "data": {
      "text/plain": [
       "'In Greek mythology, Achilles (/əˈkɪliːz/; Ancient Greek: Ἀχιλλεύς, Akhilleus, pronounced [akʰilːéu̯s]) was a Greek hero of the Trojan War and the central character and greatest warrior of Homers Iliad. His mother was the nymph Thetis, and his father, Peleus, was the king of the Myrmidons. Achilles’ most notable feat during the Trojan War was the slaying of the Trojan hero Hector outside the gates of Troy. Although the death of Achilles is not presented in the Iliad, other sources concur that he was killed near the end of the Trojan War by Paris, who shot him in the heel with an arrow. Later legends (beginning with a poem by Statius in the 1st century AD) state that Achilles was invulnerable in all of his body except for his heel. Because of his death from a small wound in the heel, the term Achilles heel has come to mean a persons point of weakness.'"
      ]
     },
     "execution_count": 213,
     "metadata": {},
     "output_type": "execute_result"
    }
   ],
   "source": [
    "y['Achilles']"
   ]
  },
  {
   "cell_type": "code",
   "execution_count": 216,
   "metadata": {},
   "outputs": [
    {
     "name": "stdout",
     "output_type": "stream",
     "text": [
      "['Characters in the Iliad', 'Demigods of Classical mythology', 'Kings of the Myrmidons', 'Greek mythological hero cult', 'People of the Trojan War', 'Thessalians in the Trojan War'] In Greek mythology, Achilles (/əˈkɪliːz/; Ancient Greek: Ἀχιλλεύς, Akhilleus, pronounced [akʰilːéu̯s]) was a Greek hero of the Trojan War and the central character and greatest warrior of Homers Iliad. His mother was the nymph Thetis, and his father, Peleus, was the king of the Myrmidons. Achilles’ most notable feat during the Trojan War was the slaying of the Trojan hero Hector outside the gates of Troy. Although the death of Achilles is not presented in the Iliad, other sources concur that he was killed near the end of the Trojan War by Paris, who shot him in the heel with an arrow. Later legends (beginning with a poem by Statius in the 1st century AD) state that Achilles was invulnerable in all of his body except for his heel. Because of his death from a small wound in the heel, the term Achilles heel has come to mean a persons point of weakness.\n"
     ]
    }
   ],
   "source": [
    "print(x['Achilles'], y['Achilles'])"
   ]
  },
  {
   "cell_type": "code",
   "execution_count": 217,
   "metadata": {},
   "outputs": [],
   "source": [
    "x.clear()\n",
    "y.clear()"
   ]
  },
  {
   "cell_type": "code",
   "execution_count": 218,
   "metadata": {},
   "outputs": [],
   "source": [
    "# 4931948 abstracts"
   ]
  },
  {
   "cell_type": "code",
   "execution_count": 232,
   "metadata": {},
   "outputs": [
    {
     "data": {
      "text/plain": [
       "['Characters in the Iliad',\n",
       " 'Demigods of Classical mythology',\n",
       " 'Kings of the Myrmidons',\n",
       " 'Greek mythological hero cult',\n",
       " 'People of the Trojan War',\n",
       " 'Thessalians in the Trojan War']"
      ]
     },
     "execution_count": 232,
     "metadata": {},
     "output_type": "execute_result"
    }
   ],
   "source": [
    "SUBJECTS_CATEGORIES['Achilles']"
   ]
  },
  {
   "cell_type": "code",
   "execution_count": null,
   "metadata": {},
   "outputs": [],
   "source": []
  }
 ],
 "metadata": {
  "kernelspec": {
   "display_name": "Python 3",
   "language": "python",
   "name": "python3"
  },
  "language_info": {
   "codemirror_mode": {
    "name": "ipython",
    "version": 3
   },
   "file_extension": ".py",
   "mimetype": "text/x-python",
   "name": "python",
   "nbconvert_exporter": "python",
   "pygments_lexer": "ipython3",
   "version": "3.7.6"
  }
 },
 "nbformat": 4,
 "nbformat_minor": 4
}
