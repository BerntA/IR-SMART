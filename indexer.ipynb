{
 "cells": [
  {
   "cell_type": "code",
   "execution_count": 154,
   "metadata": {},
   "outputs": [],
   "source": [
    "import math\n",
    "import random\n",
    "import numpy as np\n",
    "import elasticsearch\n",
    "from collections import Counter\n",
    "from nltk.tokenize import sent_tokenize, word_tokenize\n",
    "from nltk.corpus import stopwords\n",
    "from elasticsearch import Elasticsearch, helpers"
   ]
  },
  {
   "cell_type": "code",
   "execution_count": 155,
   "metadata": {},
   "outputs": [
    {
     "output_type": "execute_result",
     "data": {
      "text/plain": [
       "{'name': 'BERNTA-PC',\n",
       " 'cluster_name': 'elasticsearch',\n",
       " 'cluster_uuid': 'IP06yo9vScKZA1ZTb8R9HA',\n",
       " 'version': {'number': '7.9.2',\n",
       "  'build_flavor': 'default',\n",
       "  'build_type': 'zip',\n",
       "  'build_hash': 'd34da0ea4a966c4e49417f2da2f244e3e97b4e6e',\n",
       "  'build_date': '2020-09-23T00:45:33.626720Z',\n",
       "  'build_snapshot': False,\n",
       "  'lucene_version': '8.6.2',\n",
       "  'minimum_wire_compatibility_version': '6.8.0',\n",
       "  'minimum_index_compatibility_version': '6.0.0-beta1'},\n",
       " 'tagline': 'You Know, for Search'}"
      ]
     },
     "metadata": {},
     "execution_count": 155
    }
   ],
   "source": [
    "es = Elasticsearch()\n",
    "es.info()"
   ]
  },
  {
   "cell_type": "code",
   "execution_count": 173,
   "metadata": {},
   "outputs": [],
   "source": [
    "FIELDS = ['abstract', 'subject']\n",
    "INDEX_NAME = 'fasttest'\n",
    "INDEX_SETTINGS = {\n",
    "    'mappings': {\n",
    "            'properties': {\n",
    "                'abstract': {\n",
    "                    'type': 'text',\n",
    "                    'term_vector': 'yes',\n",
    "                    'analyzer': 'english'\n",
    "                },\n",
    "                'subject': {\n",
    "                    'type': 'text',\n",
    "                    'term_vector': 'yes',\n",
    "                    'analyzer': 'english'\n",
    "                }\n",
    "            }\n",
    "        }\n",
    "    }"
   ]
  },
  {
   "cell_type": "code",
   "execution_count": 174,
   "metadata": {},
   "outputs": [
    {
     "output_type": "execute_result",
     "data": {
      "text/plain": [
       "{'acknowledged': True, 'shards_acknowledged': True, 'index': 'fasttest'}"
      ]
     },
     "metadata": {},
     "execution_count": 174
    }
   ],
   "source": [
    "if es.indices.exists(INDEX_NAME):\n",
    "    es.indices.delete(index=INDEX_NAME)    \n",
    "es.indices.create(index=INDEX_NAME, body=INDEX_SETTINGS)"
   ]
  },
  {
   "cell_type": "code",
   "execution_count": 158,
   "metadata": {},
   "outputs": [
    {
     "output_type": "stream",
     "name": "stdout",
     "text": [
      "{'from', 'some', 've', 'at', \"don't\", 'again', 'until', 'about', 'only', \"you're\", 'does', 'or', 'more', 'hers', 'because', 'had', 'doesn', \"doesn't\", 'just', 'shan', \"isn't\", 'by', 'been', 'myself', 'so', 'its', 'all', 'did', 'further', 'own', 'up', 'between', 'couldn', \"you've\", \"aren't\", 'be', 'an', 'few', 'while', 'don', 'm', 'where', 's', \"it's\", 're', 'is', \"couldn't\", \"mightn't\", 'not', 'ain', 'most', \"she's\", 'herself', 'if', 'and', \"hasn't\", 'this', 'are', 'with', 'which', 'doing', 'very', \"should've\", 'mightn', 'any', 'ourselves', 'yours', 'do', 'who', 'isn', 'am', 'needn', \"wouldn't\", 'under', 'd', \"haven't\", 'you', 'above', 'hasn', 'theirs', 'against', 'himself', 'to', 'me', 'after', 'there', 'my', 'y', 'on', \"mustn't\", 'those', 'their', 'out', 'has', 'below', 'these', 'the', 'once', \"shouldn't\", 'didn', 'yourselves', 'of', 'weren', 'hadn', 'was', 'than', \"shan't\", 'when', 'won', 'over', 'into', 'then', 'shouldn', 'our', 'i', 'down', 'ma', \"you'd\", 'him', 'as', 'have', 'it', 'no', 'nor', 'that', 'her', 'here', 'ours', 'wouldn', 'but', 'mustn', 'same', 'he', 'themselves', 'o', 'she', \"needn't\", 'we', 'having', \"won't\", 'now', 'them', 'during', 'in', 'before', 'off', 'how', 'both', 'his', 'will', 'haven', 'wasn', 'why', 'itself', 'aren', 'each', \"didn't\", \"wasn't\", 'your', 'whom', 'can', 'being', 'they', 'other', 'should', \"that'll\", 'were', \"weren't\", 'for', 'll', 'yourself', \"hadn't\", 't', 'a', 'what', 'such', \"you'll\", 'through', 'too'}\n"
     ]
    }
   ],
   "source": [
    "stop_words = set(stopwords.words('english'))\n",
    "print(stop_words) # Needed?"
   ]
  },
  {
   "cell_type": "code",
   "execution_count": 175,
   "metadata": {},
   "outputs": [],
   "source": [
    "def peek(filename, size, enc='utf-8'):\n",
    "    \"\"\"\n",
    "    Print out the first X lines in the file.\n",
    "    \"\"\"\n",
    "    if size <= 0:\n",
    "        print(\"Size must be greater than zero!\")\n",
    "        return\n",
    "\n",
    "    with open(filename, encoding=enc) as f:\n",
    "        for i,line in enumerate(f):\n",
    "            if (size >= 0) and (i >= size):\n",
    "                break\n",
    "            if i == 0: # Skip top line.\n",
    "                continue\n",
    "            print(line.strip())"
   ]
  },
  {
   "cell_type": "code",
   "execution_count": 176,
   "metadata": {},
   "outputs": [],
   "source": [
    "def readDataFromFile(data, filename, size=-1, enc='utf-8'):\n",
    "    \"\"\"\n",
    "    Read and preprocess a certain amount of lines from a file.\n",
    "    \"\"\"\n",
    "    if size == 0:\n",
    "        print(\"Nothing to read! Set size=-1 to read the whole file. AT YOUR OWN RISK.\")\n",
    "        return\n",
    "\n",
    "    with open(filename, encoding=enc) as f:\n",
    "        for i,line in enumerate(f):\n",
    "            if (size >= 0) and (i >= size):\n",
    "                break\n",
    "            if i == 0: # Skip top line.\n",
    "                continue\n",
    "            \n",
    "            line = line.strip().replace('\"', '').replace('\\'', '').split(' ')\n",
    "            a = line[0].replace('<', '').replace('>', '').split('/')[-1].replace('_', ' ')\n",
    "            b = line[1].replace('<', '').replace('>', '').split('/')[-1].replace('_', ' ')\n",
    "            c = \"\"\n",
    "            if line[2].startswith('<'):\n",
    "                c = line[2].replace('<', '').replace('>', '').split('/')[-1][len('Category:'):].replace('_', ' ')\n",
    "            else:\n",
    "                c = ' '.join(line[2:]).replace('@en .', '')\n",
    "            \n",
    "            if not a in data:\n",
    "                data[a] = {'abstract': [], 'subject': []} # Default dict. structure for an entity? (' '.join(field) will be done before indexing elasticsearch)\n",
    "\n",
    "            data[a][b].append(c)\n",
    "\n",
    "def loadData(size):\n",
    "    \"\"\"\n",
    "    Parse dictionary data, size = lines to load from each file.\n",
    "    \"\"\"\n",
    "    kv = {}\n",
    "    files = [\n",
    "        'datasets/DBpedia/long_abstracts_en.ttl',\n",
    "        'datasets/DBpedia/article_categories_en.ttl'\n",
    "    ]\n",
    "    for o in files:\n",
    "        readDataFromFile(kv, o, size) # Update this func. if more files are added to the list in case of parsing bugs!\n",
    "    return kv"
   ]
  },
  {
   "cell_type": "code",
   "execution_count": 177,
   "metadata": {},
   "outputs": [],
   "source": [
    "def parseLine(data, line):\n",
    "    \"\"\"\n",
    "    Parse a line of text, add its details to the key value dict.\n",
    "    \"\"\"        \n",
    "    line = line.strip().replace('\"', '').replace('\\'', '').split(' ')\n",
    "    a = line[0].replace('<', '').replace('>', '').split('/')[-1].replace('_', ' ')\n",
    "    b = line[1].replace('<', '').replace('>', '').split('/')[-1].replace('_', ' ')\n",
    "    c = \"\"\n",
    "    if not a in data:\n",
    "        data[a] = {'abstract': '', 'subject': []} # Default dict. structure for an entity? (' '.join(field) will be done before indexing elasticsearch)\n",
    "\n",
    "    if line[2].startswith('<'):\n",
    "        c = line[2].replace('<', '').replace('>', '').split('/')[-1][len('Category:'):].replace('_', ' ')\n",
    "        data[a][b].append(c)\n",
    "    else:\n",
    "        c = ' '.join(line[2:]).replace('@en .', '')\n",
    "        data[a][b] = c\n",
    "\n",
    "def indexData(size=5000):\n",
    "    \"\"\"\n",
    "    Index the data, size = how many lines to process at a time, in bulk idx.\n",
    "    \"\"\"\n",
    "    files = [\n",
    "        ('datasets/DBpedia/long_abstracts_en.ttl', 'utf-8'),\n",
    "        ('datasets/DBpedia/article_categories_en.ttl', 'utf-8')\n",
    "    ]\n",
    "    files = [open(f, 'r', encoding=e) for f, e in files] # Datasets to index.\n",
    "    linesProcessed = 0\n",
    "    kv = {}\n",
    "    try:\n",
    "        abstractFile, categoriesFile = files[0], files[1]        \n",
    "        lineA, lineB = next(abstractFile), next(categoriesFile) # Skip top lines!        \n",
    "        while lineA or lineB:\n",
    "            lineA, lineB = next(abstractFile), next(categoriesFile)\n",
    "            parseLine(kv, lineA)\n",
    "            parseLine(kv, lineB)            \n",
    "            linesProcessed += 1\n",
    "\n",
    "            # Have we processed enough? Batch index these entries if so.\n",
    "            if (linesProcessed % size) == 0: # Refresh\n",
    "                actions = []\n",
    "                for k,v in kv.items():\n",
    "                    actions.append({\n",
    "                        \"_id\": k, \n",
    "                        \"_source\": {'abstract': v['abstract'], 'subject': ' '.join(v['subject'])}\n",
    "                        })\n",
    "                response = helpers.bulk(es, actions, index=INDEX_NAME)\n",
    "                print(\"BulkResponse:\", response)\n",
    "                kv.clear()\n",
    "                del actions[0:len(actions)]\n",
    "                break # <- Remove me when we know that this is good enuff...\n",
    "\n",
    "    except Exception as e:\n",
    "        print(e)\n",
    "    finally:\n",
    "        for f in files:\n",
    "            f.close()"
   ]
  },
  {
   "cell_type": "code",
   "execution_count": 178,
   "metadata": {
    "tags": []
   },
   "outputs": [
    {
     "output_type": "stream",
     "name": "stdout",
     "text": [
      "BulkResponse: (1502, [])\n"
     ]
    }
   ],
   "source": [
    "indexData(1500)"
   ]
  },
  {
   "cell_type": "code",
   "execution_count": 166,
   "metadata": {},
   "outputs": [
    {
     "output_type": "stream",
     "name": "stdout",
     "text": [
      "<http://dbpedia.org/resource/Anarchism> <http://dbpedia.org/property/voy> \"no\"^^<http://www.w3.org/1999/02/22-rdf-syntax-ns#langString> .\n<http://dbpedia.org/resource/Anarchism> <http://dbpedia.org/property/n> \"no\"^^<http://www.w3.org/1999/02/22-rdf-syntax-ns#langString> .\n<http://dbpedia.org/resource/Anarchism> <http://dbpedia.org/property/v> \"no\"^^<http://www.w3.org/1999/02/22-rdf-syntax-ns#langString> .\n"
     ]
    }
   ],
   "source": [
    "peek('datasets/DBpedia/infobox_properties_en.ttl', 4)"
   ]
  },
  {
   "cell_type": "code",
   "execution_count": 141,
   "metadata": {},
   "outputs": [
    {
     "output_type": "stream",
     "name": "stdout",
     "text": [
      "<http://dbpedia.org/resource/Animalia_(book)> <http://dbpedia.org/ontology/abstract> \"Animalia is an illustrated children's book by Graeme Base. It was originally published in 1986, followed by a tenth anniversary edition in 1996, and a 25th anniversary edition in 2012. Over three million copies have been sold. A special numbered and signed anniversary edition was also published in 1996, with an embossed gold jacket.\"@en .\n<http://dbpedia.org/resource/Actrius> <http://dbpedia.org/ontology/abstract> \"Actresses (Catalan: Actrius) is a 1997 Catalan language Spanish drama film produced and directed by Ventura Pons and based on the award-winning stage play E.R. by Josep Maria Benet i Jornet. The film has no male actors, with all roles played by females. The film was produced in 1996.\"@en .\n<http://dbpedia.org/resource/Alain_Connes> <http://dbpedia.org/ontology/abstract> \"Alain Connes (French: [alɛ̃ kɔn]; born 1 April 1947) is a French mathematician, currently Professor at the Collège de France, IHÉS, The Ohio State University and Vanderbilt University. He was an Invited Professor at the Conservatoire national des arts et métiers (2000).\"@en .\n"
     ]
    }
   ],
   "source": [
    "peek('datasets/DBpedia/long_abstracts_en.ttl', 4)"
   ]
  },
  {
   "cell_type": "code",
   "execution_count": 142,
   "metadata": {},
   "outputs": [
    {
     "output_type": "stream",
     "name": "stdout",
     "text": [
      "<http://dbpedia.org/resource/Computer_accessibility> <http://dbpedia.org/ontology/wikiPageWikiLinkText> \"Computer accessibility\"@en .\n<http://dbpedia.org/resource/History_of_Afghanistan> <http://dbpedia.org/ontology/wikiPageWikiLinkText> \"History of Afghanistan\"@en .\n<http://dbpedia.org/resource/Geography_of_Afghanistan> <http://dbpedia.org/ontology/wikiPageWikiLinkText> \"Geography of Afghanistan\"@en .\n"
     ]
    }
   ],
   "source": [
    "peek('datasets/DBpedia/anchor_text_en.ttl', 4)"
   ]
  },
  {
   "cell_type": "code",
   "execution_count": 143,
   "metadata": {},
   "outputs": [
    {
     "output_type": "stream",
     "name": "stdout",
     "text": [
      "<http://dbpedia.org/resource/A> <http://purl.org/dc/terms/subject> <http://dbpedia.org/resource/Category:ISO_basic_Latin_letters> .\n<http://dbpedia.org/resource/A> <http://purl.org/dc/terms/subject> <http://dbpedia.org/resource/Category:Vowel_letters> .\n<http://dbpedia.org/resource/Achilles> <http://purl.org/dc/terms/subject> <http://dbpedia.org/resource/Category:Characters_in_the_Iliad> .\n"
     ]
    }
   ],
   "source": [
    "peek('datasets/DBpedia/article_categories_en.ttl', 4)"
   ]
  },
  {
   "cell_type": "code",
   "execution_count": 144,
   "metadata": {},
   "outputs": [
    {
     "output_type": "stream",
     "name": "stdout",
     "text": [
      "<http://dbpedia.org/resource/Anarchism> <http://www.w3.org/1999/02/22-rdf-syntax-ns#type> <http://www.w3.org/2002/07/owl#Thing> .\n<http://dbpedia.org/resource/Achilles> <http://www.w3.org/1999/02/22-rdf-syntax-ns#type> <http://www.w3.org/2002/07/owl#Thing> .\n<http://dbpedia.org/resource/Autism> <http://www.w3.org/1999/02/22-rdf-syntax-ns#type> <http://dbpedia.org/ontology/Disease> .\n"
     ]
    }
   ],
   "source": [
    "peek('datasets/DBpedia/instance_types_en.ttl', 4)"
   ]
  },
  {
   "cell_type": "code",
   "execution_count": 145,
   "metadata": {},
   "outputs": [
    {
     "output_type": "stream",
     "name": "stdout",
     "text": [
      "<http://dbpedia.org/resource/Autism> <http://dbpedia.org/ontology/icd10> \"F84.0\" .\n<http://dbpedia.org/resource/Autism> <http://dbpedia.org/ontology/icd9> \"299.00\" .\n<http://dbpedia.org/resource/Autism> <http://dbpedia.org/ontology/omim> \"209850\"^^<http://www.w3.org/2001/XMLSchema#integer> .\n"
     ]
    }
   ],
   "source": [
    "peek('datasets/DBpedia/mappingbased_literals_en.ttl', 4)"
   ]
  },
  {
   "cell_type": "code",
   "execution_count": 146,
   "metadata": {},
   "outputs": [
    {
     "output_type": "stream",
     "name": "stdout",
     "text": [
      "<http://dbpedia.org/resource/Anarchism> <http://www.w3.org/2000/01/rdf-schema#seeAlso> <http://dbpedia.org/resource/Anarchist_terminology> .\n<http://dbpedia.org/resource/Anarchism> <http://www.w3.org/2000/01/rdf-schema#seeAlso> <http://dbpedia.org/resource/Anarchism> .\n<http://dbpedia.org/resource/Anarchism> <http://www.w3.org/2000/01/rdf-schema#seeAlso> <http://dbpedia.org/resource/France> .\n"
     ]
    }
   ],
   "source": [
    "peek('datasets/DBpedia/mappingbased_objects_en.ttl', 4)"
   ]
  },
  {
   "cell_type": "code",
   "execution_count": 16,
   "metadata": {},
   "outputs": [
    {
     "output_type": "execute_result",
     "data": {
      "text/plain": [
       "{'abstract': ['In Greek mythology, Achilles (/əˈkɪliːz/; Ancient Greek: Ἀχιλλεύς, Akhilleus, pronounced [akʰilːéu̯s]) was a Greek hero of the Trojan War and the central character and greatest warrior of Homers Iliad. His mother was the nymph Thetis, and his father, Peleus, was the king of the Myrmidons. Achilles’ most notable feat during the Trojan War was the slaying of the Trojan hero Hector outside the gates of Troy. Although the death of Achilles is not presented in the Iliad, other sources concur that he was killed near the end of the Trojan War by Paris, who shot him in the heel with an arrow. Later legends (beginning with a poem by Statius in the 1st century AD) state that Achilles was invulnerable in all of his body except for his heel. Because of his death from a small wound in the heel, the term Achilles heel has come to mean a persons point of weakness.'],\n",
       " 'subject': ['Characters in the Iliad',\n",
       "  'Demigods of Classical mythology',\n",
       "  'Kings of the Myrmidons',\n",
       "  'Greek mythological hero cult',\n",
       "  'People of the Trojan War',\n",
       "  'Thessalians in the Trojan War']}"
      ]
     },
     "metadata": {},
     "execution_count": 16
    }
   ],
   "source": [
    "kv=loadData(500)\n",
    "kv['Achilles']"
   ]
  },
  {
   "cell_type": "code",
   "execution_count": 167,
   "metadata": {},
   "outputs": [
    {
     "output_type": "execute_result",
     "data": {
      "text/plain": [
       "['Animalia (book)',\n",
       " 'Actrius',\n",
       " 'Alain Connes',\n",
       " 'Agricultural science',\n",
       " 'International Atomic Time',\n",
       " 'Astronomer',\n",
       " 'An American in Paris',\n",
       " 'Allan Dwan',\n",
       " 'List of Atlas Shrugged characters',\n",
       " 'Achilles']"
      ]
     },
     "metadata": {},
     "execution_count": 167
    }
   ],
   "source": [
    "list(kv.keys())[:10]"
   ]
  },
  {
   "cell_type": "code",
   "execution_count": 168,
   "metadata": {},
   "outputs": [],
   "source": [
    "#es.update(index=INDEX_NAME, id='Achilles', body={\"doc\": {'abstract':kv['Achilles']['abstract'][0]}})\n",
    "#es.update(index=INDEX_NAME, id='Achilles', body={\"doc\": {'subject':\" \".join(kv['Achilles']['subject'])}})\n",
    "#es.update(index=INDEX_NAME, id='Achilles', body={\"doc\": {'subject':\" \".join(['meep', 'beep'])}})"
   ]
  },
  {
   "cell_type": "code",
   "execution_count": 179,
   "metadata": {},
   "outputs": [
    {
     "output_type": "execute_result",
     "data": {
      "text/plain": [
       "{'took': 3,\n",
       " 'timed_out': False,\n",
       " '_shards': {'total': 1, 'successful': 1, 'skipped': 0, 'failed': 0},\n",
       " 'hits': {'total': {'value': 29, 'relation': 'eq'},\n",
       "  'max_score': 6.787057,\n",
       "  'hits': [{'_index': 'fasttest',\n",
       "    '_type': '_doc',\n",
       "    '_id': 'Aeneas',\n",
       "    '_score': 6.787057,\n",
       "    '_source': {'abstract': 'In Greco-Roman mythology, Aeneas (/ᵻˈniːəs/; Greek: Αἰνείας, Aineías, possibly derived from Greek αἰνή meaning \\\\praised\\\\) was a Trojan hero, the son of the prince Anchises and the goddess Venus (Aphrodite). His father was a first cousin of King Priam of Troy (both being grandsons of Ilus, founder of Troy), making Aeneas a second cousin to Priams children (such as Hector and Paris). He is a character in Greek mythology and is mentioned in Homers Iliad. Aeneas receives full treatment in Roman mythology, most extensively in Virgils Aeneid where he is an ancestor of Romulus and Remus. He became the first true hero of Rome.',\n",
       "     'subject': ''}},\n",
       "   {'_index': 'fasttest',\n",
       "    '_type': '_doc',\n",
       "    '_id': 'Amphisbaena',\n",
       "    '_score': 6.3089895,\n",
       "    '_source': {'abstract': 'The amphisbaena (/ˌæmfɪsˈbiːnə/, plural: amphisbaenae) is a mythological, ant-eating serpent with a head at each end. The creature is alternately called the amphisbaina, amphisbene, amphisboena, amphisbona, amphista, amfivena, amphivena, or anphivena (the last two being feminine), and is also known as the \\\\Mother of Ants\\\\. Its name comes from the Greek words amphis, meaning \\\\both ways\\\\, and bainein, meaning \\\\to go\\\\. According to Greek mythology, the amphisbaena was spawned from the blood that dripped from the Gorgon Medusas head as Perseus flew over the Libyan Desert with it in his hand, after which Catos army then encountered it along with other serpents on the march. Amphisbaena fed off of the corpses left behind. The amphisbaena has been referred to by various poets such as Nicander, John Milton, Alexander Pope, Percy Bysshe Shelley, Alfred, Lord Tennyson, A. E. Housman and Allen Mandelbaum; as a mythological and legendary creature, it has been referenced by Lucan, Pliny the Elder, Isidore of Seville, and Thomas Browne, the last of whom debunked its existence.',\n",
       "     'subject': ''}},\n",
       "   {'_index': 'fasttest',\n",
       "    '_type': '_doc',\n",
       "    '_id': 'Ajax (mythology)',\n",
       "    '_score': 6.256966,\n",
       "    '_source': {'abstract': 'Ajax or Aias (/ˈeɪdʒæks/ or /ˈaɪ.əs/; Ancient Greek: Αἴας [a͜í.aːs], gen. Αἴαντος Aiantos) is a mythological Greek hero, the son of King Telamon and Periboea, and the half-brother of Teucer. He plays an important role, and is portrayed as a towering figure and a warrior of great courage in Homers Iliad and in the Epic Cycle, a series of epic poems about the Trojan War. He is also referred to as \\\\Telamonian Ajax,\\\\ \\\\Greater Ajax,\\\\ or \\\\Ajax the Great\\\\, which distinguishes him from Ajax, son of Oileus (Ajax the Lesser). In Etruscan mythology, he is known as Aivas Tlamunus.',\n",
       "     'subject': ''}},\n",
       "   {'_index': 'fasttest',\n",
       "    '_type': '_doc',\n",
       "    '_id': 'Aegis',\n",
       "    '_score': 6.2213454,\n",
       "    '_source': {'abstract': 'The aegis or aigis (Ancient Greek: Αἰγίς; English pronunciation: /ˈiːdʒɪs/), as stated in the Iliad, is carried by Athena and Zeus, but its nature is uncertain. It had been interpreted as an animal skin or a shield, sometimes bearing the head of a Gorgon. There may be a connection with a deity named Aex or Aix, a daughter of Helios and a nurse of Zeus or alternatively a mistress of Zeus (Hyginus, Astronomica 2. 13). The aegis of Athena is referred to in several places in the Iliad. \\\\It produced a sound as from a myriad roaring dragons (Iliad, 4.17) and was borne by Athena in battle ... and among them went bright-eyed Athene, holding the precious aegis which is ageless and immortal: a hundred tassels of pure gold hang fluttering from it, tight-woven each of them, and each the worth of a hundred oxen.\\\\ The modern concept of doing something \\\\under someones aegis\\\\ means doing something under the protection of a powerful, knowledgeable, or benevolent source. The word aegis is identified with protection by a strong force with its roots in Greek mythology and adopted by the Romans; there are parallels in Norse mythology and in Egyptian mythology as well, where the Greek word aegis is applied by extension.',\n",
       "     'subject': ''}},\n",
       "   {'_index': 'fasttest',\n",
       "    '_type': '_doc',\n",
       "    '_id': 'Aeacus',\n",
       "    '_score': 5.9241843,\n",
       "    '_source': {'abstract': 'Aeacus (/ˈiːəkəs/; also spelled Eacus; Greek: Αἰακός) was a mythological king of the island of Aegina in the Saronic Gulf. He was the father of Peleus, Telamon and Phocus and was the grandfather of Achilles and Telemonian Ajax.',\n",
       "     'subject': ''}},\n",
       "   {'_index': 'fasttest',\n",
       "    '_type': '_doc',\n",
       "    '_id': 'Álfheimr',\n",
       "    '_score': 5.894942,\n",
       "    '_source': {'abstract': 'Alfheim (Old Norse: Álfheimr, \\\\Land Of The Elves\\\\ or \\\\Elfland\\\\), also called Ljosalfheim (Ljósálf[a]heimr, \\\\home of the light-elves\\\\), is one of the Nine Worlds and home of the Light Elves in Norse mythology.',\n",
       "     'subject': ''}},\n",
       "   {'_index': 'fasttest',\n",
       "    '_type': '_doc',\n",
       "    '_id': 'Ægir',\n",
       "    '_score': 5.894942,\n",
       "    '_source': {'abstract': 'In Norse mythology, Ægir (Old Norse \\\\sea\\\\) is a sea jötunn associated with the ocean. He is also known for hosting elaborate parties for the gods. Ægirs servants are Fimafeng (killed by Loki) and Eldir.',\n",
       "     'subject': ''}},\n",
       "   {'_index': 'fasttest',\n",
       "    '_type': '_doc',\n",
       "    '_id': 'Alcmene',\n",
       "    '_score': 5.698056,\n",
       "    '_source': {'abstract': 'In Greek mythology, Alcmene /ælkˈmiːniː/ or Alcmena /ælkˈmiːnə/ (Ancient Greek: Ἀλκμήνη or Ἀλκμάνα [Doric]) was the wife of Amphitryon by whom she bore two children, Iphicles and Laonome. She is, however, better known as the mother of Heracles whose father was the god Zeus.',\n",
       "     'subject': ''}},\n",
       "   {'_index': 'fasttest',\n",
       "    '_type': '_doc',\n",
       "    '_id': 'Aegeus',\n",
       "    '_score': 5.617646,\n",
       "    '_source': {'abstract': 'In Greek mythology, Aegeus (/ˈɛdʒˌjuːs/; Ancient Greek: Αἰγεύς) or Aegeas (/ˈiːdʒiəs/; Αιγέας), was an archaic figure in the founding myth of Athens. The \\\\goat-man\\\\ who gave his name to the Aegean Sea was, next to Poseidon, the father of Theseus, the founder of Athenian institutions and one of the kings of Athens.',\n",
       "     'subject': ''}},\n",
       "   {'_index': 'fasttest',\n",
       "    '_type': '_doc',\n",
       "    '_id': 'Apollo',\n",
       "    '_score': 5.4624996,\n",
       "    '_source': {'abstract': 'Apollo (Attic, Ionic, and Homeric Greek: Ἀπόλλων, Apollōn (GEN Ἀπόλλωνος); Doric: Ἀπέλλων, Apellōn; Arcadocypriot: Ἀπείλων, Apeilōn; Aeolic: Ἄπλουν, Aploun; Latin: Apollō) is one of the most important and complex of the Olympian deities in classical Greek and Roman religion and Greek and Roman mythology. The ideal of the kouros (a beardless, athletic youth), Apollo has been variously recognized as a god of music, truth and prophecy, healing, the sun and light, plague, poetry, and more. Apollo is the son of Zeus and Leto, and has a twin sister, the chaste huntress Artemis. Apollo is known in Greek-influenced Etruscan mythology as Apulu. As the patron of Delphi (Pythian Apollo), Apollo was an oracular god—the prophetic deity of the Delphic Oracle. Medicine and healing are associated with Apollo, whether through the god himself or mediated through his son Asclepius, yet Apollo was also seen as a god who could bring ill-health and deadly plague. Amongst the gods custodial charges, Apollo became associated with dominion over colonists, and as the patron defender of herds and flocks. As the leader of the Muses (Apollon Musegetes) and director of their choir, Apollo functioned as the patron god of music and poetry. Hermes created the lyre for him, and the instrument became a common attribute of Apollo. Hymns sung to Apollo were called paeans. In Hellenistic times, especially during the 3rd century BCE, as Apollo Helios he became identified among Greeks with Helios, Titan god of the sun, and his sister Artemis similarly equated with Selene, Titan goddess of the moon. In Latin texts, on the other hand, Joseph Fontenrose declared himself unable to find any conflation of Apollo with Sol among the Augustan poets of the 1st century, not even in the conjurations of Aeneas and Latinus in Aeneid XII (161–215). Apollo and Helios/Sol remained separate beings in literary and mythological texts until the 3rd century CE.',\n",
       "     'subject': 'Apollo Arts gods Deities in the Iliad Dragonslayers Health gods Knowledge gods LGBT themes in mythology Muses Temples of Apollo Mythological Greek archers Mythological rapists Oracular gods Roman gods Solar gods'}}]}}"
      ]
     },
     "metadata": {},
     "execution_count": 179
    }
   ],
   "source": [
    "es.search(index=INDEX_NAME, body={'query': {'match': {'abstract': 'mythology'}}}, _source=True, size=10)"
   ]
  },
  {
   "cell_type": "code",
   "execution_count": null,
   "metadata": {},
   "outputs": [],
   "source": []
  },
  {
   "cell_type": "code",
   "execution_count": null,
   "metadata": {},
   "outputs": [],
   "source": []
  }
 ],
 "metadata": {
  "kernelspec": {
   "display_name": "Python 3",
   "language": "python",
   "name": "python3"
  },
  "language_info": {
   "codemirror_mode": {
    "name": "ipython",
    "version": 3
   },
   "file_extension": ".py",
   "mimetype": "text/x-python",
   "name": "python",
   "nbconvert_exporter": "python",
   "pygments_lexer": "ipython3",
   "version": "3.7.6-final"
  }
 },
 "nbformat": 4,
 "nbformat_minor": 4
}