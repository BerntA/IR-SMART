{
 "cells": [
  {
   "cell_type": "markdown",
   "metadata": {},
   "source": [
    "## Imports"
   ]
  },
  {
   "cell_type": "code",
   "execution_count": 1,
   "metadata": {},
   "outputs": [],
   "source": [
    "import math\n",
    "import random\n",
    "from collections import Counter\n",
    "import re\n",
    "\n",
    "import elasticsearch\n",
    "from elasticsearch import Elasticsearch, helpers\n",
    "\n",
    "from nltk.tokenize import sent_tokenize, word_tokenize\n",
    "from nltk.corpus import stopwords"
   ]
  },
  {
   "cell_type": "markdown",
   "metadata": {},
   "source": [
    "## Generate ES-connection and index structure"
   ]
  },
  {
   "cell_type": "code",
   "execution_count": 14,
   "metadata": {},
   "outputs": [
    {
     "data": {
      "text/plain": [
       "{'name': 'ULTIMECIA',\n",
       " 'cluster_name': 'elasticsearch',\n",
       " 'cluster_uuid': 'MHYEAbcOS_i6ybp0d4NE2A',\n",
       " 'version': {'number': '7.9.1',\n",
       "  'build_flavor': 'default',\n",
       "  'build_type': 'zip',\n",
       "  'build_hash': '083627f112ba94dffc1232e8b42b73492789ef91',\n",
       "  'build_date': '2020-09-01T21:22:21.964974Z',\n",
       "  'build_snapshot': False,\n",
       "  'lucene_version': '8.6.2',\n",
       "  'minimum_wire_compatibility_version': '6.8.0',\n",
       "  'minimum_index_compatibility_version': '6.0.0-beta1'},\n",
       " 'tagline': 'You Know, for Search'}"
      ]
     },
     "execution_count": 14,
     "metadata": {},
     "output_type": "execute_result"
    }
   ],
   "source": [
    "es = Elasticsearch()\n",
    "es.info()"
   ]
  },
  {
   "cell_type": "code",
   "execution_count": 15,
   "metadata": {},
   "outputs": [],
   "source": [
    "FIELDS = [\"abstract\", \"subject\", \"instance\"]\n",
    "INDEX_NAME = 'not_so_fast_test'\n",
    "INDEX_SETTINGS = {\n",
    "    'mappings': {\n",
    "            'properties': {\n",
    "                'abstract': {\n",
    "                    'type': 'text',\n",
    "                    'term_vector': 'yes',\n",
    "                    'analyzer': 'english'\n",
    "                },\n",
    "                'subject': {\n",
    "                    'type': 'text',\n",
    "                    'term_vector': 'yes',\n",
    "                    'analyzer': 'english'\n",
    "                },\n",
    "                'instance': {\n",
    "                    'type': 'text',\n",
    "                    'term_vector': 'yes',\n",
    "                    'analyzer': 'english'\n",
    "                }\n",
    "            }\n",
    "        }\n",
    "    }"
   ]
  },
  {
   "cell_type": "code",
   "execution_count": 16,
   "metadata": {},
   "outputs": [
    {
     "data": {
      "text/plain": [
       "{'acknowledged': True,\n",
       " 'shards_acknowledged': True,\n",
       " 'index': 'not_so_fast_test'}"
      ]
     },
     "execution_count": 16,
     "metadata": {},
     "output_type": "execute_result"
    }
   ],
   "source": [
    "if es.indices.exists(INDEX_NAME):\n",
    "    es.indices.delete(index=INDEX_NAME)\n",
    "es.indices.create(index=INDEX_NAME, body=INDEX_SETTINGS)"
   ]
  },
  {
   "cell_type": "markdown",
   "metadata": {},
   "source": [
    "## Processing"
   ]
  },
  {
   "cell_type": "code",
   "execution_count": 64,
   "metadata": {},
   "outputs": [],
   "source": [
    "stop_words = set(stopwords.words(\"english\"))"
   ]
  },
  {
   "cell_type": "markdown",
   "metadata": {},
   "source": [
    "## Loading of files"
   ]
  },
  {
   "cell_type": "code",
   "execution_count": 124,
   "metadata": {},
   "outputs": [],
   "source": [
    "def loadCategories():\n",
    "    pattern = re.compile(r'<http://dbpedia.org/resource/([^>]*)> <[^>]*> <http://dbpedia.org/resource/([^>]*)>.*', re.MULTILINE | re.DOTALL)\n",
    "    kv = {}\n",
    "    with open('datasets/DBpedia/article_categories_en.ttl', encoding='utf-8') as f:\n",
    "        for i, line in enumerate(f):\n",
    "            m = pattern.match(line)\n",
    "            if m:\n",
    "                entity = m.group(1).replace(\"_\", \" \").lower()\n",
    "                category = m.group(2).replace(\"_\", \" \").split(\":\")[1].lower()\n",
    "\n",
    "                if not entity in kv:\n",
    "                    kv[entity] = []\n",
    "                kv[entity].append(category)\n",
    "    return kv\n",
    "\n",
    "def loadAbstracts():\n",
    "    pattern = re.compile(r'<http://dbpedia.org/resource/([^>]*)> <[^>]*> \"([^>]*)\"@en .*', re.MULTILINE | re.DOTALL)    \n",
    "    kv = {}\n",
    "    with open('datasets/DBpedia/long_abstracts_en.ttl', encoding='utf-8') as f:\n",
    "        for i, line in enumerate(f):\n",
    "            m = pattern.match(line)\n",
    "            if m:\n",
    "                entity = m.group(1).replace(\"_\", \" \").lower()\n",
    "                abstract = m.group(2).lower()\n",
    "\n",
    "                kv[entity] = abstract\n",
    "    return kv\n",
    "\n",
    "def loadInstances():\n",
    "    pattern = re.compile(r'<http://dbpedia.org/resource/([^>]*)> <[^>]*> <http://([^>]*).*', re.MULTILINE | re.DOTALL)    \n",
    "    kv = {}\n",
    "    with open('datasets/DBpedia/instance_types_en.ttl', encoding='utf-8') as f:\n",
    "        for i, line in enumerate(f):\n",
    "            m = pattern.match(line)\n",
    "            if m:\n",
    "                entity = m.group(1).replace(\"_\", \" \").lower()\n",
    "                instance = m.group(2).split(\"/\")[-1].replace(\"_\", \" \").lower()\n",
    "                \n",
    "                kv[entity] = instance\n",
    "    return kv"
   ]
  },
  {
   "cell_type": "code",
   "execution_count": 125,
   "metadata": {
    "tags": []
   },
   "outputs": [],
   "source": [
    "categories = loadCategories()\n",
    "abstracts = loadAbstracts()\n",
    "instances = loadInstances()"
   ]
  },
  {
   "cell_type": "code",
   "execution_count": 126,
   "metadata": {},
   "outputs": [
    {
     "name": "stdout",
     "output_type": "stream",
     "text": [
      "5161974\n",
      "4929821\n",
      "5043467\n"
     ]
    }
   ],
   "source": [
    "print(len(categories))\n",
    "print(len(abstracts))\n",
    "print(len(instances))"
   ]
  },
  {
   "cell_type": "code",
   "execution_count": 129,
   "metadata": {},
   "outputs": [
    {
     "data": {
      "text/plain": [
       "\"in greek mythology, achilles (/əˈkɪliːz/; ancient greek: ἀχιλλεύς, akhilleus, pronounced [akʰilːéu̯s]) was a greek hero of the trojan war and the central character and greatest warrior of homer's iliad. his mother was the nymph thetis, and his father, peleus, was the king of the myrmidons. achilles’ most notable feat during the trojan war was the slaying of the trojan hero hector outside the gates of troy. although the death of achilles is not presented in the iliad, other sources concur that he was killed near the end of the trojan war by paris, who shot him in the heel with an arrow. later legends (beginning with a poem by statius in the 1st century ad) state that achilles was invulnerable in all of his body except for his heel. because of his death from a small wound in the heel, the term achilles' heel has come to mean a person's point of weakness.\""
      ]
     },
     "execution_count": 129,
     "metadata": {},
     "output_type": "execute_result"
    }
   ],
   "source": [
    "instances[\"achilles\"]"
   ]
  }
 ],
 "metadata": {
  "kernelspec": {
   "display_name": "Python 3",
   "language": "python",
   "name": "python3"
  },
  "language_info": {
   "codemirror_mode": {
    "name": "ipython",
    "version": 3
   },
   "file_extension": ".py",
   "mimetype": "text/x-python",
   "name": "python",
   "nbconvert_exporter": "python",
   "pygments_lexer": "ipython3",
   "version": "3.7.6"
  }
 },
 "nbformat": 4,
 "nbformat_minor": 2
}
