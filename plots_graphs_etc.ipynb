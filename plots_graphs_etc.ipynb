{
 "cells": [
  {
   "cell_type": "code",
   "execution_count": 1,
   "metadata": {},
   "outputs": [],
   "source": [
    "%matplotlib inline\n",
    "import matplotlib\n",
    "import matplotlib.pyplot as plt\n",
    "import json\n",
    "import elasticsearch\n",
    "import string\n",
    "import re\n",
    "import math\n",
    "import os\n",
    "import numpy as np\n",
    "from collections import Counter"
   ]
  },
  {
   "cell_type": "code",
   "execution_count": 2,
   "metadata": {},
   "outputs": [],
   "source": [
    "QUERY_TRAIN_FILEPATH = 'datasets\\DBpedia\\smarttask_dbpedia_train.json'"
   ]
  },
  {
   "cell_type": "code",
   "execution_count": 3,
   "metadata": {},
   "outputs": [
    {
     "name": "stdout",
     "output_type": "stream",
     "text": [
      "{'then', 'not', 'and', 'for', 'a', 'will', 'if', 'by', 'these', 'but', 'in', 'was', 'an', 'of', 'on', 'it', 'the', 'at', 'are', 'such', 'no', 'or', 'that', 'to', 'there', 'with', 'this', 'as', 'be', 'into', 'is', 'they', 'their'}\n"
     ]
    }
   ],
   "source": [
    "stop_words = set(['a', 'an', 'and', 'are', 'as', 'at', 'be', 'but', 'by', 'for', 'if', 'in', 'into', 'is', 'it', 'no', 'not', 'of', 'on', 'or', 'such', 'that', 'the', 'their', 'then', 'there', 'these', 'they', 'this', 'to', 'was', 'will', 'with'])\n",
    "print(stop_words) # Default in ElasticSearch"
   ]
  },
  {
   "cell_type": "code",
   "execution_count": 4,
   "metadata": {},
   "outputs": [],
   "source": [
    "def preprocess(text):\n",
    "    \"\"\"Preprocess some query, lower, remove punctuation stuff, stopwords, etc.\"\"\"\n",
    "    text = text.strip().lower()\n",
    "    text = text.replace('_', ' ').replace('-', ' ')\n",
    "    text = text.translate(str.maketrans('', '', string.punctuation)) # Remove punctuation stuff.\n",
    "    text = re.sub('\\s\\s+', ' ', text).split(' ') # Replace consequtive whitespace with a single space.\n",
    "    return ' '.join([v for v in text if not v in stop_words]).strip()"
   ]
  },
  {
   "cell_type": "code",
   "execution_count": 5,
   "metadata": {},
   "outputs": [],
   "source": [
    "def load_train_queries(filepath):\n",
    "    \"\"\"\n",
    "    Load training queries from a file. \n",
    "    Returns a dictoinary with queryID as key and corresponding query, category and type.\n",
    "    \"\"\"\n",
    "    query_dicts = {}\n",
    "    queries = None\n",
    "    with open(filepath, \"r\") as f:\n",
    "        queries = f.read()\n",
    "    \n",
    "    for query in json.loads(queries):\n",
    "        try:\n",
    "            qID, qText, qCat, qType = query[\"id\"].lower(), query[\"question\"].lower(), query[\"category\"].lower(), ' '.join(query[\"type\"]).lower()\n",
    "            if not 'dbo:' in qType: # Skip queries without a dbo: type.\n",
    "                continue\n",
    "            query_dicts[qID] = {\"query\": preprocess(qText), \"category\": qCat, \"type\": qType.replace('dbo:', '')}\n",
    "        except Exception as e:\n",
    "            # print(\"Query: {}\\n\\tThrew an exception: {}\\n\".format(query, e))\n",
    "            continue\n",
    "    return query_dicts"
   ]
  },
  {
   "cell_type": "code",
   "execution_count": 6,
   "metadata": {},
   "outputs": [
    {
     "name": "stdout",
     "output_type": "stream",
     "text": [
      "# training queries: 9557 \n",
      "\tExample key 'dbpedia_17655' returns: {'query': 'what town birthplace joseph greenberg', 'category': 'resource', 'type': 'city settlement populatedplace place location'}\n"
     ]
    }
   ],
   "source": [
    "training_queries = load_train_queries(QUERY_TRAIN_FILEPATH)\n",
    "print(\"# training queries:\", len(training_queries), \"\\n\\tExample key 'dbpedia_17655' returns:\", training_queries['dbpedia_17655'])"
   ]
  },
  {
   "cell_type": "code",
   "execution_count": 7,
   "metadata": {},
   "outputs": [],
   "source": [
    "def loadDBPediaTypes():\n",
    "    kv = {}\n",
    "    max_depth = 0\n",
    "    with open('./evaluation/dbpedia/dbpedia_types.tsv', 'r') as f:\n",
    "        for i, line in enumerate(f):\n",
    "            if i == 0: # Skip header\n",
    "                continue\n",
    "            line = line.strip().lower().split('\\t')\n",
    "            if len(line) != 3:\n",
    "                continue\n",
    "            type_name, depth, parent_type = line[0].split(':')[-1], int(line[1]), line[-1].split(':')[-1]\n",
    "            if (len(type_name) == 0) or (len(parent_type) == 0):\n",
    "                continue\n",
    "            kv[type_name] = {'depth':depth, 'parent':parent_type}\n",
    "            max_depth = max(depth, max_depth)\n",
    "    return kv, max_depth\n",
    "\n",
    "def getTypeHierarchy(kv, items, target):\n",
    "    if not target in kv:\n",
    "        return\n",
    "    items.append(target)\n",
    "    getTypeHierarchy(kv, items, kv[target]['parent'])\n",
    "\n",
    "def buildDBPediaTypeHierarchy(kv, target, reverse=True):\n",
    "    items = [] # List of types, representing the hierarchy of the types related to the target.\n",
    "    getTypeHierarchy(kv, items, target)\n",
    "    if reverse:\n",
    "        return items[::-1] # Reverse the order to return the correct hierarchy where the first item = top level.\n",
    "    return items\n",
    "\n",
    "def cacheDBPediaPaths():\n",
    "    \"\"\"Simplify Evaluation Path Computations\"\"\"\n",
    "    for k in type_hierarchy.keys():\n",
    "        type_hierarchy[k]['path'] = buildDBPediaTypeHierarchy(type_hierarchy, k, False)"
   ]
  },
  {
   "cell_type": "code",
   "execution_count": 8,
   "metadata": {},
   "outputs": [
    {
     "name": "stdout",
     "output_type": "stream",
     "text": [
      "['basketballleague', 'naturalevent', 'province', 'lunarcrater'] Max Depth 7\n"
     ]
    }
   ],
   "source": [
    "type_hierarchy, max_depth = loadDBPediaTypes()\n",
    "cacheDBPediaPaths()\n",
    "print(list(type_hierarchy.keys())[:4], 'Max Depth', max_depth)"
   ]
  },
  {
   "cell_type": "code",
   "execution_count": 9,
   "metadata": {},
   "outputs": [],
   "source": [
    "def read_result_from_file(file):\n",
    "    result = {}\n",
    "    with open('./results/{}.csv'.format(file), 'r') as f:\n",
    "        for line in f:\n",
    "            line = line.strip().split(',')\n",
    "            if len(line) != 2:\n",
    "                continue\n",
    "            result[line[0]] = [v for v in line[-1].split(' ') if len(v) > 0]\n",
    "    return result"
   ]
  },
  {
   "cell_type": "code",
   "execution_count": 10,
   "metadata": {},
   "outputs": [],
   "source": [
    "def relevancy_frequency(result):\n",
    "    items = [0, 0, 0]\n",
    "    for qId, obj in training_queries.items():     \n",
    "        if qId not in result:\n",
    "            continue\n",
    "\n",
    "        qTypes = obj['type'].split(' ')\n",
    "        if len(qTypes) == 0:\n",
    "            continue\n",
    "            \n",
    "        type_relevancy = {}        \n",
    "        for typ in qTypes:\n",
    "            if not typ in type_hierarchy:\n",
    "                continue\n",
    "            hierarchy = buildDBPediaTypeHierarchy(type_hierarchy, typ)\n",
    "            for v in hierarchy:\n",
    "                type_relevancy[v] = 1 # Relevant, its in the same hierarchy but in a diff pos.            \n",
    "\n",
    "        for typ in qTypes:\n",
    "            type_relevancy[typ] = 2 # This is the type we want. Give it the highest weight.\n",
    "\n",
    "        if len(type_relevancy) == 0:\n",
    "            continue\n",
    "            \n",
    "        for instanceType in result[qId]:\n",
    "            relevancy = 0 # Default = not relevant\n",
    "            if instanceType in type_relevancy:\n",
    "                relevancy = type_relevancy[instanceType]\n",
    "            elif instanceType in type_hierarchy:                \n",
    "                relevancy = buildDBPediaTypeHierarchy(type_hierarchy, instanceType)\n",
    "                relevancy = max([(1 if (t in type_relevancy) else 0) for t in relevancy] + [0])\n",
    "            items[relevancy] += 1\n",
    "            \n",
    "    return items"
   ]
  },
  {
   "cell_type": "code",
   "execution_count": 11,
   "metadata": {},
   "outputs": [],
   "source": [
    "res_advanced_pntwse = read_result_from_file('advanced')\n",
    "res_word2vec = read_result_from_file('advanced_word2vec')\n",
    "res_baseline = read_result_from_file('baseline')"
   ]
  },
  {
   "cell_type": "code",
   "execution_count": 12,
   "metadata": {},
   "outputs": [
    {
     "data": {
      "text/plain": [
       "[17745, 22223, 55611]"
      ]
     },
     "execution_count": 12,
     "metadata": {},
     "output_type": "execute_result"
    }
   ],
   "source": [
    "relevancy_frequency(res_advanced_pntwse)"
   ]
  },
  {
   "cell_type": "code",
   "execution_count": 30,
   "metadata": {},
   "outputs": [
    {
     "data": {
      "text/plain": [
       "array([[53135, 25964, 16573],\n",
       "       [46631, 27898, 21145],\n",
       "       [17745, 22223, 55611]])"
      ]
     },
     "execution_count": 30,
     "metadata": {},
     "output_type": "execute_result"
    }
   ],
   "source": [
    "mat = np.array([\n",
    "    relevancy_frequency(res_baseline),\n",
    "    relevancy_frequency(res_word2vec),\n",
    "    relevancy_frequency(res_advanced_pntwse)\n",
    "])\n",
    "mat"
   ]
  },
  {
   "cell_type": "code",
   "execution_count": 31,
   "metadata": {},
   "outputs": [],
   "source": [
    "perc = []\n",
    "for v in mat:\n",
    "    perc.append((v/v.sum()).tolist())"
   ]
  },
  {
   "cell_type": "code",
   "execution_count": 32,
   "metadata": {},
   "outputs": [
    {
     "data": {
      "text/plain": [
       "[[0.5553871561167322, 0.27138556735513003, 0.1732272765281378],\n",
       " [0.4873946944833497, 0.2915943725568075, 0.2210109329598428],\n",
       " [0.18565793741303005, 0.23250923319976147, 0.5818328293872085]]"
      ]
     },
     "execution_count": 32,
     "metadata": {},
     "output_type": "execute_result"
    }
   ],
   "source": [
    "perc"
   ]
  },
  {
   "cell_type": "code",
   "execution_count": 20,
   "metadata": {},
   "outputs": [
    {
     "name": "stdout",
     "output_type": "stream",
     "text": [
      "[53135 25964 16573] 95672\n",
      "[46631 27898 21145] 95674\n",
      "[17745 22223 55611] 95579\n"
     ]
    }
   ],
   "source": [
    "for v in mat:\n",
    "    print(v, v.sum())\n",
    "high = np.max(v)\n",
    "barWidth = 0.15\n",
    "BIN = ['Not Relevant', 'Partially Relevant', 'Relevant']\n",
    "COLOR = ['#5ac95f', '#687f2d', '#2d7f5e']"
   ]
  },
  {
   "cell_type": "code",
   "execution_count": 21,
   "metadata": {},
   "outputs": [
    {
     "data": {
      "image/png": "[encoded data removed]",
      "text/plain": [
       "<Figure size 1872x1008 with 1 Axes>"
      ]
     },
     "metadata": {
      "needs_background": "light"
     },
     "output_type": "display_data"
    }
   ],
   "source": [
    "fig, ax = plt.subplots(1, figsize=(26,14), tight_layout=True)\n",
    "pos = np.array([0, barWidth, barWidth*2])\n",
    "xticks = []\n",
    "\n",
    "for j, vec in enumerate(mat):\n",
    "    height = (vec / high) * 50.0\n",
    "    ax.bar(pos, height, color=COLOR, width=barWidth, edgecolor='white')\n",
    "    xticks.append(pos[1])\n",
    "    pos = pos + (barWidth*3+0.05)\n",
    "\n",
    "ax.set_ylabel('Frequency per 55k', fontsize=22)\n",
    "#ax.set_title('Relevancy Histogram', fontsize=25)\n",
    "plt.xticks(xticks, ['Baseline', 'Word2Vec', 'Pointwise LTR'], fontsize=22)\n",
    "plt.yticks(fontsize=22)\n",
    "\n",
    "plt.legend([plt.Rectangle((0,0),1,1,color=c) for c in COLOR], BIN, fontsize=21)\n",
    "plt.tight_layout()\n",
    "#plt.savefig('./fig/relevancy_histogram.png', transparent=False, bbox_inches='tight')\n",
    "plt.show()"
   ]
  },
  {
   "cell_type": "code",
   "execution_count": null,
   "metadata": {},
   "outputs": [],
   "source": []
  }
 ],
 "metadata": {
  "kernelspec": {
   "display_name": "Python 3",
   "language": "python",
   "name": "python3"
  },
  "language_info": {
   "codemirror_mode": {
    "name": "ipython",
    "version": 3
   },
   "file_extension": ".py",
   "mimetype": "text/x-python",
   "name": "python",
   "nbconvert_exporter": "python",
   "pygments_lexer": "ipython3",
   "version": "3.7.6"
  }
 },
 "nbformat": 4,
 "nbformat_minor": 4
}
